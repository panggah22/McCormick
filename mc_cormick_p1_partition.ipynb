{
 "cells": [
  {
   "cell_type": "code",
   "execution_count": 15,
   "metadata": {},
   "outputs": [],
   "source": [
    "# import pandas as pd\n",
    "import math\n",
    "# import matplotlib.pyplot as plt\n",
    "import numpy as np\n",
    "\n",
    "import gurobipy as gp\n",
    "from gurobipy import GRB, tuplelist\n",
    "\n",
    "# import pandapower.networks as pn\n",
    "# import scipy.io"
   ]
  },
  {
   "cell_type": "code",
   "execution_count": 16,
   "metadata": {},
   "outputs": [],
   "source": [
    "# m = gp.Model('LinMcCormick')\n",
    "idx_x = np.arange(1,3,1)\n",
    "set_x = tuplelist([i for i in idx_x])"
   ]
  },
  {
   "cell_type": "code",
   "execution_count": 17,
   "metadata": {},
   "outputs": [
    {
     "name": "stdout",
     "output_type": "stream",
     "text": [
      "2 3\n"
     ]
    }
   ],
   "source": [
    "def ayy(x):\n",
    "    a = 2*x\n",
    "    b = 3*x\n",
    "    return a,b\n",
    "\n",
    "a,b = ayy(1)\n",
    "print(a,b)"
   ]
  },
  {
   "cell_type": "code",
   "execution_count": 18,
   "metadata": {},
   "outputs": [],
   "source": [
    "def define_variables(m):\n",
    "    # X\n",
    "    x = m.addVars(set_x, name='x')\n",
    "\n",
    "    for i in [1,2]:\n",
    "        x[i].LB, x[i].UB = 0, 1.5\n",
    "        # x[i].Start = 0\n",
    "\n",
    "    return x"
   ]
  },
  {
   "cell_type": "code",
   "execution_count": 19,
   "metadata": {},
   "outputs": [],
   "source": [
    "def define_objective(m,x):\n",
    "    sum_x = -x[1] + x[1]*x[2] - x[2]\n",
    "\n",
    "    m.setObjective(sum_x, GRB.MINIMIZE)"
   ]
  },
  {
   "cell_type": "code",
   "execution_count": 20,
   "metadata": {},
   "outputs": [],
   "source": [
    "def define_constraints(m,x):\n",
    "    m.addConstr(-6*x[1] + 8*x[2] <= 3)\n",
    "    m.addConstr(3*x[1] - x[2] <= 3)"
   ]
  },
  {
   "cell_type": "code",
   "execution_count": 21,
   "metadata": {},
   "outputs": [
    {
     "name": "stdout",
     "output_type": "stream",
     "text": [
      "Gurobi Optimizer version 11.0.0 build v11.0.0rc2 (win64 - Windows 11+.0 (26120.2))\n",
      "\n",
      "CPU model: AMD Ryzen 7 2700X Eight-Core Processor, instruction set [SSE2|AVX|AVX2]\n",
      "Thread count: 8 physical cores, 16 logical processors, using up to 16 threads\n",
      "\n",
      "Optimize a model with 32 rows, 45 columns and 132 nonzeros\n",
      "Model fingerprint: 0xe9920a26\n",
      "Variable types: 25 continuous, 20 integer (20 binary)\n",
      "Coefficient statistics:\n",
      "  Matrix range     [1e-01, 9e+00]\n",
      "  Objective range  [1e+00, 1e+00]\n",
      "  Bounds range     [1e+00, 2e+00]\n",
      "  RHS range        [2e-01, 3e+00]\n",
      "Found heuristic solution: objective 0.0000000\n",
      "Presolve removed 30 rows and 33 columns\n",
      "Presolve time: 0.00s\n",
      "Presolved: 2 rows, 12 columns, 21 nonzeros\n",
      "Variable types: 2 continuous, 10 integer (10 binary)\n",
      "\n",
      "Root relaxation: objective -1.000000e+00, 1 iterations, 0.00 seconds (0.00 work units)\n",
      "\n",
      "    Nodes    |    Current Node    |     Objective Bounds      |     Work\n",
      " Expl Unexpl |  Obj  Depth IntInf | Incumbent    BestBd   Gap | It/Node Time\n",
      "\n",
      "     0     0   -1.00000    0    1    0.00000   -1.00000      -     -    0s\n",
      "H    0     0                      -1.0000000   -1.00000  0.00%     -    0s\n",
      "     0     0   -1.00000    0    1   -1.00000   -1.00000  0.00%     -    0s\n",
      "\n",
      "Explored 1 nodes (1 simplex iterations) in 0.03 seconds (0.00 work units)\n",
      "Thread count was 16 (of 16 available processors)\n",
      "\n",
      "Solution count 2: -1 0 \n",
      "\n",
      "Optimal solution found (tolerance 1.00e-04)\n",
      "Best objective -1.000000000000e+00, best bound -1.000000000000e+00, gap 0.0000%\n"
     ]
    },
    {
     "data": {
      "text/plain": [
       "32"
      ]
     },
     "execution_count": 21,
     "metadata": {},
     "output_type": "execute_result"
    }
   ],
   "source": [
    "def mdt(m,x1,x2,p=0,iter=1):\n",
    "    idx_k = np.arange(0,10,1)\n",
    "    idx_l = np.arange(p,1,1)\n",
    "\n",
    "    set_k = tuplelist(idx_k)\n",
    "    set_l = tuplelist(idx_l)\n",
    "    set_kl = tuplelist([(i,j) for i in set_k for j in idx_l])\n",
    "\n",
    "    w12 = m.addVar(lb=-GRB.INFINITY, ub=GRB.INFINITY, name='aux')\n",
    "    delta_w12 = m.addVar(lb=0, ub=GRB.INFINITY, name='aux_del')\n",
    "    delta_x1 = m.addVar(lb=0, ub=GRB.INFINITY, name='x_del')\n",
    "    hat_x1 = m.addVars(set_kl, lb=0, ub=1.5, name='x_hat')\n",
    "    z = m.addVars(set_kl, vtype=GRB.BINARY, name='z')\n",
    "\n",
    "    m.addConstr(w12 == gp.quicksum(gp.quicksum(math.pow(10,l)*k*hat_x1[k,l] for k in set_k) for l in set_l) + delta_w12)\n",
    "    m.addConstr(x1 == gp.quicksum(gp.quicksum(math.pow(10,l)*k*z[k,l] for k in set_k) for l in set_l) + delta_x1)\n",
    "    m.addConstrs(x2 == gp.quicksum(math.pow(10,l)*k*hat_x1[k,l] for k in set_k) for l in set_l)\n",
    "    m.addConstrs(hat_x1[k,l] <= 1.5 * z[k,l] for k,l in set_kl)\n",
    "    m.addConstrs(gp.quicksum(z[k,l] for k in set_k) == 1 for l in set_l)\n",
    "    # m.addConstr(delta_w12 >= 0)\n",
    "    m.addConstr(delta_w12 <= 1.5*delta_x1)\n",
    "    m.addConstr(delta_w12 >= (x2 - 1.5)*math.pow(10,p) + 1.5*delta_x1)\n",
    "    m.addConstr(delta_w12 <= math.pow(10,p)*x2)\n",
    "    m.addConstr(delta_x1 <= 1.5*math.pow(10,p))\n",
    "\n",
    "\n",
    "    return w12,delta_w12,delta_x1,hat_x1,z\n",
    "\n",
    "def define_objective_mdt(m,x,w):\n",
    "    sum_x = -x[1] + w - x[2]\n",
    "\n",
    "    m.setObjective(sum_x, GRB.MINIMIZE)\n",
    "\n",
    "o = gp.Model('a')\n",
    "x = define_variables(o)\n",
    "o.update()\n",
    "\n",
    "w,del_w,del_x,h_x,zz = [],[],[],[],[]\n",
    "w12,delta_w12,delta_x1,hat_x1,z = mdt(o,x[1],x[2],p=-1)\n",
    "define_constraints(o,x)\n",
    "\n",
    "define_objective(o,x,w12)\n",
    "\n",
    "o.write('MDT.lp')\n",
    "\n",
    "o.optimize()\n",
    "o.NumConstrs"
   ]
  },
  {
   "cell_type": "code",
   "execution_count": null,
   "metadata": {},
   "outputs": [],
   "source": []
  },
  {
   "cell_type": "code",
   "execution_count": 22,
   "metadata": {},
   "outputs": [
    {
     "data": {
      "text/plain": [
       "-1.0"
      ]
     },
     "execution_count": 22,
     "metadata": {},
     "output_type": "execute_result"
    }
   ],
   "source": [
    "-x[1].X + x[1].X * x[2].X - x[2].X"
   ]
  },
  {
   "cell_type": "code",
   "execution_count": 23,
   "metadata": {},
   "outputs": [
    {
     "name": "stdout",
     "output_type": "stream",
     "text": [
      "Gurobi Optimizer version 11.0.0 build v11.0.0rc2 (win64 - Windows 11+.0 (26120.2))\n",
      "\n",
      "CPU model: AMD Ryzen 7 2700X Eight-Core Processor, instruction set [SSE2|AVX|AVX2]\n",
      "Thread count: 8 physical cores, 16 logical processors, using up to 16 threads\n",
      "\n",
      "Optimize a model with 2 rows, 2 columns and 4 nonzeros\n",
      "Model fingerprint: 0x5c271958\n",
      "Model has 1 quadratic objective term\n",
      "Coefficient statistics:\n",
      "  Matrix range     [1e+00, 8e+00]\n",
      "  Objective range  [1e+00, 1e+00]\n",
      "  QObjective range [2e+00, 2e+00]\n",
      "  Bounds range     [2e+00, 2e+00]\n",
      "  RHS range        [3e+00, 3e+00]\n",
      "\n",
      "Continuous model is non-convex -- solving as a MIP\n",
      "\n",
      "Found heuristic solution: objective 0.0000000\n",
      "Found heuristic solution: objective -0.7500000\n",
      "Presolve time: 0.00s\n",
      "Presolved: 4 rows, 3 columns, 8 nonzeros\n",
      "Presolved model has 1 bilinear constraint(s)\n",
      "Variable types: 3 continuous, 0 integer (0 binary)\n",
      "Found heuristic solution: objective -1.0833333\n",
      "\n",
      "Root relaxation: objective -1.500000e+00, 1 iterations, 0.00 seconds (0.00 work units)\n",
      "\n",
      "    Nodes    |    Current Node    |     Objective Bounds      |     Work\n",
      " Expl Unexpl |  Obj  Depth IntInf | Incumbent    BestBd   Gap | It/Node Time\n",
      "\n",
      "     0     0   -1.50000    0    1   -1.08333   -1.50000  38.5%     -    0s\n",
      "     0     0   -1.35746    0    1   -1.08333   -1.35746  25.3%     -    0s\n",
      "     0     0   -1.33340    0    1   -1.08333   -1.33340  23.1%     -    0s\n",
      "     0     0   -1.32752    0    1   -1.08333   -1.32752  22.5%     -    0s\n",
      "     0     0   -1.31751    0    1   -1.08333   -1.31751  21.6%     -    0s\n",
      "     0     0   -1.20785    0    1   -1.08333   -1.20785  11.5%     -    0s\n",
      "     0     0   -1.20476    0    1   -1.08333   -1.20476  11.2%     -    0s\n",
      "     0     0   -1.18831    0    1   -1.08333   -1.18831  9.69%     -    0s\n",
      "     0     0   -1.18357    0    1   -1.08333   -1.18357  9.25%     -    0s\n",
      "     0     0   -1.18314    0    1   -1.08333   -1.18314  9.21%     -    0s\n",
      "     0     0   -1.16001    0    1   -1.08333   -1.16001  7.08%     -    0s\n",
      "     0     2   -1.16001    0    1   -1.08333   -1.16001  7.08%     -    0s\n",
      "\n",
      "Cutting planes:\n",
      "  RLT: 1\n",
      "\n",
      "Explored 51 nodes (46 simplex iterations) in 0.06 seconds (0.00 work units)\n",
      "Thread count was 16 (of 16 available processors)\n",
      "\n",
      "Solution count 3: -1.08333 -0.75 0 \n",
      "\n",
      "Optimal solution found (tolerance 1.00e-04)\n",
      "Best objective -1.083333333333e+00, best bound -1.083361916706e+00, gap 0.0026%\n"
     ]
    }
   ],
   "source": [
    "m = gp.Model('P1')\n",
    "x = define_variables(m)\n",
    "m.update()\n",
    "define_objective(m,x)\n",
    "define_constraints(m,x)\n",
    "\n",
    "# m.Params.NonConvex = 2\n",
    "# m.Params.PStart = [0,0]\n",
    "# m.Params.SolutionLimit = 1\n",
    "m.optimize()"
   ]
  },
  {
   "cell_type": "code",
   "execution_count": 27,
   "metadata": {},
   "outputs": [
    {
     "data": {
      "text/plain": [
       "0.0710000991821289"
      ]
     },
     "execution_count": 27,
     "metadata": {},
     "output_type": "execute_result"
    }
   ],
   "source": [
    "x\n",
    "m.Runtime"
   ]
  }
 ],
 "metadata": {
  "kernelspec": {
   "display_name": "python38",
   "language": "python",
   "name": "python3"
  },
  "language_info": {
   "codemirror_mode": {
    "name": "ipython",
    "version": 3
   },
   "file_extension": ".py",
   "mimetype": "text/x-python",
   "name": "python",
   "nbconvert_exporter": "python",
   "pygments_lexer": "ipython3",
   "version": "3.8.18"
  }
 },
 "nbformat": 4,
 "nbformat_minor": 2
}
