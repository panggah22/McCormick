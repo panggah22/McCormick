{
 "cells": [
  {
   "cell_type": "code",
   "execution_count": 1,
   "metadata": {},
   "outputs": [],
   "source": [
    "# import pandas as pd\n",
    "# import math\n",
    "# import matplotlib.pyplot as plt\n",
    "import numpy as np\n",
    "\n",
    "import gurobipy as gp\n",
    "from gurobipy import GRB, tuplelist\n",
    "\n",
    "# import pandapower.networks as pn\n",
    "# import scipy.io"
   ]
  },
  {
   "cell_type": "code",
   "execution_count": 2,
   "metadata": {},
   "outputs": [],
   "source": [
    "# m = gp.Model('LinMcCormick')\n",
    "idx_x = np.arange(1,3,1)\n",
    "set_x = tuplelist([i for i in idx_x])"
   ]
  },
  {
   "cell_type": "code",
   "execution_count": 3,
   "metadata": {},
   "outputs": [],
   "source": [
    "def define_variables(m):\n",
    "    # X\n",
    "    x = m.addVars(set_x, name='x')\n",
    "\n",
    "    for i in [1,2]:\n",
    "        x[i].LB, x[i].UB = 0, 1.5\n",
    "\n",
    "    return x"
   ]
  },
  {
   "cell_type": "code",
   "execution_count": 4,
   "metadata": {},
   "outputs": [],
   "source": [
    "def define_objective(m,x):\n",
    "    sum_x = -x[1] + x[1]*x[2] - x[2]\n",
    "\n",
    "    m.setObjective(sum_x, GRB.MINIMIZE)"
   ]
  },
  {
   "cell_type": "code",
   "execution_count": 5,
   "metadata": {},
   "outputs": [],
   "source": [
    "def define_constraints(m,x):\n",
    "    m.addConstr(-6*x[1] + 8*x[2] <= 3)\n",
    "    m.addConstr(3*x[1] - x[2] <= 3)"
   ]
  },
  {
   "cell_type": "code",
   "execution_count": 6,
   "metadata": {},
   "outputs": [
    {
     "name": "stdout",
     "output_type": "stream",
     "text": [
      "Set parameter Username\n",
      "Academic license - for non-commercial use only - expires 2025-01-25\n",
      "Set parameter NonConvex to value 2\n",
      "Gurobi Optimizer version 11.0.0 build v11.0.0rc2 (win64 - Windows 11+.0 (26120.2))\n",
      "\n",
      "CPU model: AMD Ryzen 7 2700X Eight-Core Processor, instruction set [SSE2|AVX|AVX2]\n",
      "Thread count: 8 physical cores, 16 logical processors, using up to 16 threads\n",
      "\n",
      "Optimize a model with 2 rows, 2 columns and 4 nonzeros\n",
      "Model fingerprint: 0x5c271958\n",
      "Model has 1 quadratic objective term\n",
      "Coefficient statistics:\n",
      "  Matrix range     [1e+00, 8e+00]\n",
      "  Objective range  [1e+00, 1e+00]\n",
      "  QObjective range [2e+00, 2e+00]\n",
      "  Bounds range     [2e+00, 2e+00]\n",
      "  RHS range        [3e+00, 3e+00]\n",
      "\n",
      "Continuous model is non-convex -- solving as a MIP\n",
      "\n",
      "Found heuristic solution: objective 0.0000000\n",
      "Found heuristic solution: objective -0.7500000\n",
      "Presolve time: 0.00s\n",
      "Presolved: 4 rows, 3 columns, 8 nonzeros\n",
      "Presolved model has 1 bilinear constraint(s)\n",
      "Variable types: 3 continuous, 0 integer (0 binary)\n",
      "Found heuristic solution: objective -1.0833333\n",
      "\n",
      "Root relaxation: objective -1.500000e+00, 1 iterations, 0.00 seconds (0.00 work units)\n",
      "\n",
      "    Nodes    |    Current Node    |     Objective Bounds      |     Work\n",
      " Expl Unexpl |  Obj  Depth IntInf | Incumbent    BestBd   Gap | It/Node Time\n",
      "\n",
      "     0     0   -1.50000    0    1   -1.08333   -1.50000  38.5%     -    0s\n",
      "     0     0   -1.35746    0    1   -1.08333   -1.35746  25.3%     -    0s\n",
      "     0     0   -1.33340    0    1   -1.08333   -1.33340  23.1%     -    0s\n",
      "     0     0   -1.32752    0    1   -1.08333   -1.32752  22.5%     -    0s\n",
      "     0     0   -1.31751    0    1   -1.08333   -1.31751  21.6%     -    0s\n",
      "     0     0   -1.20785    0    1   -1.08333   -1.20785  11.5%     -    0s\n",
      "     0     0   -1.20476    0    1   -1.08333   -1.20476  11.2%     -    0s\n",
      "     0     0   -1.18831    0    1   -1.08333   -1.18831  9.69%     -    0s\n",
      "     0     0   -1.18357    0    1   -1.08333   -1.18357  9.25%     -    0s\n",
      "     0     0   -1.18314    0    1   -1.08333   -1.18314  9.21%     -    0s\n",
      "     0     0   -1.16001    0    1   -1.08333   -1.16001  7.08%     -    0s\n",
      "     0     2   -1.16001    0    1   -1.08333   -1.16001  7.08%     -    0s\n",
      "\n",
      "Cutting planes:\n",
      "  RLT: 1\n",
      "\n",
      "Explored 51 nodes (46 simplex iterations) in 0.08 seconds (0.00 work units)\n",
      "Thread count was 16 (of 16 available processors)\n",
      "\n",
      "Solution count 3: -1.08333 -0.75 0 \n",
      "\n",
      "Optimal solution found (tolerance 1.00e-04)\n",
      "Best objective -1.083333333333e+00, best bound -1.083361916706e+00, gap 0.0026%\n"
     ]
    }
   ],
   "source": [
    "m = gp.Model('P1')\n",
    "x = define_variables(m)\n",
    "m.update()\n",
    "define_objective(m,x)\n",
    "define_constraints(m,x)\n",
    "\n",
    "m.Params.NonConvex = 2\n",
    "# m.Params.SolutionLimit = 1\n",
    "m.optimize()"
   ]
  },
  {
   "cell_type": "code",
   "execution_count": 7,
   "metadata": {},
   "outputs": [
    {
     "data": {
      "text/plain": [
       "{1: <gurobi.Var x[1] (value 1.1666666666666667)>,\n",
       " 2: <gurobi.Var x[2] (value 0.5)>}"
      ]
     },
     "execution_count": 7,
     "metadata": {},
     "output_type": "execute_result"
    }
   ],
   "source": [
    "x"
   ]
  }
 ],
 "metadata": {
  "kernelspec": {
   "display_name": "python38",
   "language": "python",
   "name": "python3"
  },
  "language_info": {
   "codemirror_mode": {
    "name": "ipython",
    "version": 3
   },
   "file_extension": ".py",
   "mimetype": "text/x-python",
   "name": "python",
   "nbconvert_exporter": "python",
   "pygments_lexer": "ipython3",
   "version": "3.8.18"
  }
 },
 "nbformat": 4,
 "nbformat_minor": 2
}
