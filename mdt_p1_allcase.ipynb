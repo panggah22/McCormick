{
 "cells": [
  {
   "cell_type": "code",
   "execution_count": 4,
   "metadata": {},
   "outputs": [],
   "source": [
    "# Load libraries\n",
    "import gurobipy as gp\n",
    "from gurobipy import GRB,tuplelist\n",
    "import numpy as np\n",
    "import pandas as pd"
   ]
  },
  {
   "cell_type": "code",
   "execution_count": 5,
   "metadata": {},
   "outputs": [],
   "source": [
    "# Set parameters\n",
    "P = 0\n",
    "p = -5   # Defining the accuracy\n",
    "\n",
    "def optimize_problem(p,P):\n",
    "    set_l = range(p,P+1)\n",
    "    set_k = range(10)\n",
    "    set_kl = tuplelist([(k,l) for l in set_l for k in set_k])\n",
    "\n",
    "    m = gp.Model('MDT')\n",
    "\n",
    "    # Define the continuous variables\n",
    "    x1 = m.addVar(lb=0, ub=1.5, vtype=GRB.CONTINUOUS, name=\"x1\")\n",
    "    x2 = m.addVar(lb=0, ub=1.5, vtype=GRB.CONTINUOUS, name=\"x2\")\n",
    "\n",
    "    m.update()\n",
    "\n",
    "    w12 = m.addVar(vtype=GRB.CONTINUOUS, name=\"w12\")\n",
    "    Delta_w12 = m.addVar(lb=0, ub=1.5 * x1.UB, vtype=GRB.CONTINUOUS, name=\"Delta_w12\")  # 1.5 * 1.5 upper bound\n",
    "    Delta_x1 = m.addVar(lb=0, ub=10**p, vtype=GRB.CONTINUOUS, name=\"Delta_x1\")\n",
    "\n",
    "    # Define the indexed continuous variables (hat_x_k) and binary variables (z_k)\n",
    "    hat_x = m.addVars(set_kl, lb=0, ub=1.5, vtype=GRB.CONTINUOUS, name=\"hat_x\")\n",
    "    z = m.addVars(set_kl, vtype=GRB.BINARY, name=\"z\")\n",
    "\n",
    "    # Set the objective function: Minimize f = -x1 + w12 - x2\n",
    "    m.setObjective(-x1 + w12 - x2, GRB.MINIMIZE)\n",
    "    m.update()\n",
    "\n",
    "    # Constraint 1: -6*x1 + 8*x2 <= 3\n",
    "    m.addConstr(-6*x1 + 8*x2 <= 3, \"c1\")\n",
    "\n",
    "    # Constraint 2: 3*x1 - x2 <= 3\n",
    "    m.addConstr(3*x1 - x2 <= 3, \"c2\")\n",
    "\n",
    "    # Constraint 3: w12 = sum(k * hat_x[k]) + Delta_w12\n",
    "    m.addConstr(w12 == gp.quicksum(gp.quicksum(10**l * k * hat_x[k,l] for k in set_k) for l in set_l) + Delta_w12, \"c3\")\n",
    "\n",
    "    # Constraint 4: x1 = sum(10^0 * k * z_k) + Delta_x1\n",
    "    m.addConstr(x1 == gp.quicksum(gp.quicksum(10**l * k * z[k,l] for k in set_k) for l in set_l) + Delta_x1, \"c4\")\n",
    "\n",
    "    # Constraint 5: x2 = sum(hat_x[k])\n",
    "    m.addConstrs((x2 == gp.quicksum(hat_x[k,l] for k in set_k) for l in set_l), \"c5\")\n",
    "\n",
    "    # Constraint 6: hat_x[k] <= 1.5 * z[k] for all k\n",
    "    # for k in range(10):\n",
    "    m.addConstrs((hat_x[k,l] <= 1.5 * z[k,l] for k,l in set_kl), \"c6\")\n",
    "\n",
    "    # Constraint 7: Sum(z_k) = 1\n",
    "    m.addConstrs((gp.quicksum(z[k,l] for k in set_k) == 1 for l in set_l), \"c7\")\n",
    "\n",
    "    # Constraint 8: 0 <= Delta_w12 <= 1.5 * Delta_x1\n",
    "    m.addConstr(Delta_w12 >= 0, \"c8a\")\n",
    "    m.addConstr(Delta_w12 <= 1.5 * Delta_x1, \"c8b\")\n",
    "\n",
    "    # Constraint 9: (x2 - 1.5) * 10^0 + 1.5 * Delta_x1 <= Delta_w12 <= x2 * 10^0\n",
    "    m.addConstr((x2 - 1.5) * 10**p + 1.5 * Delta_x1 <= Delta_w12, \"c9a\")\n",
    "    m.addConstr(Delta_w12 <= x2 * 10**p, \"c9b\")\n",
    "\n",
    "    # Constraint 10: 0 <= Delta_x1 <= 1.5 * 10^0\n",
    "    m.addConstr(Delta_x1 >= 0, \"c10a\")\n",
    "    m.addConstr(Delta_x1 <= 1.5 * 10**p, \"c10b\")\n",
    "\n",
    "    # Optimize the m\n",
    "    m.Params.OutputFlag = 0\n",
    "    # m.write('kk.lp')\n",
    "    m.optimize()\n",
    "\n",
    "    # print('-------------- p =',p,'----------------')\n",
    "    # # print('There are', m.NumVars, 'variables and', m.NumConstrs, 'constraints')\n",
    "    # print('The program runs for', m.Runtime, 'seconds')\n",
    "    # print('Objective value:',m.ObjVal,'; x1=',x1.X,'; x2=',x2.X,'; w12=', w12.X)\n",
    "    # print(' ')\n",
    "\n",
    "    return m.ObjVal, x1.X, x2.X, m.Runtime, m.NumVars, m.NumConstrs"
   ]
  },
  {
   "cell_type": "code",
   "execution_count": 6,
   "metadata": {},
   "outputs": [
    {
     "name": "stdout",
     "output_type": "stream",
     "text": [
      "     p  Obj_value        x1        x2  Computed in  Num. Vars  Num. Constrs\n",
      " 0   0  -1.333333  1.333333  1.000000        0.004       25.0          22.0\n",
      "-1  -1  -1.116667  1.166667  0.500000        0.008       45.0          34.0\n",
      "-2  -2  -1.086667  1.166667  0.500000        0.017       65.0          46.0\n",
      "-3  -3  -1.083667  1.166667  0.500000        0.038       85.0          58.0\n",
      "-4  -4  -1.083367  1.166667  0.500000        0.063      105.0          70.0\n",
      "-5  -5  -1.083337  1.166667  0.500000        0.080      125.0          82.0\n",
      "-6  -6  -1.083334  1.166789  0.500364        0.098      145.0          94.0\n"
     ]
    }
   ],
   "source": [
    "df = pd.DataFrame(columns=['p','Obj_value','x1','x2','Computed in'])\n",
    "for i in range(0,-7,-1):\n",
    "    objval,x1,x2,runtime,numvars,numconstr = optimize_problem(i,0)\n",
    "    df2 = pd.DataFrame({'p':[i], 'Obj_value':[objval], 'x1':[x1], 'x2':[x2], 'Computed in':[runtime], 'Num. Vars':[numvars], 'Num. Constrs':[numconstr]},index=[i])\n",
    "    df = pd.concat([df,df2])\n",
    "\n",
    "df.set_index(['p'])\n",
    "print(df)"
   ]
  },
  {
   "cell_type": "code",
   "execution_count": 9,
   "metadata": {},
   "outputs": [
    {
     "data": {
      "text/plain": [
       "1.166789"
      ]
     },
     "execution_count": 9,
     "metadata": {},
     "output_type": "execute_result"
    }
   ],
   "source": [
    "x1"
   ]
  }
 ],
 "metadata": {
  "kernelspec": {
   "display_name": "python38",
   "language": "python",
   "name": "python3"
  },
  "language_info": {
   "codemirror_mode": {
    "name": "ipython",
    "version": 3
   },
   "file_extension": ".py",
   "mimetype": "text/x-python",
   "name": "python",
   "nbconvert_exporter": "python",
   "pygments_lexer": "ipython3",
   "version": "3.8.18"
  }
 },
 "nbformat": 4,
 "nbformat_minor": 2
}
