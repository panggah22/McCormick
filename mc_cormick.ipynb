{
 "cells": [
  {
   "cell_type": "code",
   "execution_count": 331,
   "metadata": {},
   "outputs": [],
   "source": [
    "# import pandas as pd\n",
    "# import math\n",
    "# import matplotlib.pyplot as plt\n",
    "import numpy as np\n",
    "\n",
    "import gurobipy as gp\n",
    "from gurobipy import GRB, tuplelist\n",
    "\n",
    "# import pandapower.networks as pn\n",
    "# import scipy.io"
   ]
  },
  {
   "cell_type": "code",
   "execution_count": 332,
   "metadata": {},
   "outputs": [],
   "source": [
    "# m = gp.Model('LinMcCormick')\n",
    "idx_x = np.arange(1,9,1)\n",
    "set_x = tuplelist([i for i in idx_x])"
   ]
  },
  {
   "cell_type": "code",
   "execution_count": 333,
   "metadata": {},
   "outputs": [],
   "source": [
    "def define_variables(m):\n",
    "    # X\n",
    "    x = m.addVars(set_x, name='x') \n",
    "    x[1].LB, x[1].UB = 100, 10000\n",
    "\n",
    "    for i in [2,3]:\n",
    "        x[i].LB, x[i].UB = 1000, 10000\n",
    "\n",
    "    for i in [4,5,6,7,8]:\n",
    "        x[i].LB, x[i].UB = 10, 1000\n",
    "\n",
    "    return x"
   ]
  },
  {
   "cell_type": "code",
   "execution_count": 334,
   "metadata": {},
   "outputs": [],
   "source": [
    "def define_objective(m,x):\n",
    "    sum_x = sum(x[i] for i in [1,2,3])\n",
    "\n",
    "    m.setObjective(sum_x, GRB.MINIMIZE)"
   ]
  },
  {
   "cell_type": "code",
   "execution_count": 335,
   "metadata": {},
   "outputs": [],
   "source": [
    "def nonlinear_constraints(m,x):\n",
    "    m.addConstr(0.0025*(x[4] + x[6]) - 1 <= 0)\n",
    "    m.addConstr(0.0025*(-x[4] + x[5] + x[7]) - 1 <= 0)\n",
    "    m.addConstr(0.01*(-x[5] + x[8]) - 1 <= 0)\n",
    "    m.addConstr(100*x[1] - x[1]*x[6] + 833.33252*x[4] - 83333.333 <= 0)\n",
    "    m.addConstr(x[2]*x[4] - x[2]*x[7] - 1250*x[4] + 1250*x[5] <= 0)\n",
    "    m.addConstr(x[3]*x[5] - x[3]*x[8] - 2500*x[5] + 1250000 <= 0)"
   ]
  },
  {
   "cell_type": "code",
   "execution_count": 336,
   "metadata": {},
   "outputs": [],
   "source": [
    "def mc_cormick(m,a,b,nm):\n",
    "    c = m.addVar(name=nm)\n",
    "    m.addConstr(c >= a.LB*b + a*b.LB - a.LB*b.LB)\n",
    "    m.addConstr(c >= a.UB*b + a*b.UB - a.UB*b.UB)\n",
    "    m.addConstr(c <= a.LB*b + a*b.UB - a.LB*b.UB)\n",
    "    m.addConstr(c <= a.UB*b + a*b.LB - a.UB*b.LB)\n",
    "\n",
    "    return c"
   ]
  },
  {
   "cell_type": "code",
   "execution_count": 337,
   "metadata": {},
   "outputs": [],
   "source": [
    "def linear_constraint(m,x,c16,c24,c27,c35,c38):\n",
    "    m.addConstr(0.0025*(x[4] + x[6]) - 1 <= 0)\n",
    "    m.addConstr(0.0025*(-x[4] + x[5] + x[7]) - 1 <= 0)\n",
    "    m.addConstr(0.01*(-x[5] + x[8]) - 1 <= 0)\n",
    "    m.addConstr(100*x[1] - c16 + 833.33252*x[4] - 83333.333 <= 0)\n",
    "    m.addConstr(c24 - c27 - 1250*x[4] + 1250*x[5] <= 0)\n",
    "    m.addConstr(c35 - c38 - 2500*x[5] + 1250000 <= 0)"
   ]
  },
  {
   "cell_type": "code",
   "execution_count": 338,
   "metadata": {},
   "outputs": [],
   "source": [
    "def var_values(y,mult=1):\n",
    "    z = []\n",
    "    for v in y.values():\n",
    "        z.append(v.X*mult)\n",
    "    return z"
   ]
  },
  {
   "cell_type": "code",
   "execution_count": 339,
   "metadata": {},
   "outputs": [
    {
     "name": "stdout",
     "output_type": "stream",
     "text": [
      "Gurobi Optimizer version 11.0.0 build v11.0.0rc2 (win64 - Windows 11+.0 (26120.2))\n",
      "\n",
      "CPU model: AMD Ryzen 7 2700X Eight-Core Processor, instruction set [SSE2|AVX|AVX2]\n",
      "Thread count: 8 physical cores, 16 logical processors, using up to 16 threads\n",
      "\n",
      "Optimize a model with 3 rows, 8 columns and 7 nonzeros\n",
      "Model fingerprint: 0x7c3dd7c0\n",
      "Model has 3 quadratic constraints\n",
      "Coefficient statistics:\n",
      "  Matrix range     [3e-03, 1e-02]\n",
      "  QMatrix range    [1e+00, 1e+00]\n",
      "  QLMatrix range   [1e+02, 3e+03]\n",
      "  Objective range  [1e+00, 1e+00]\n",
      "  Bounds range     [1e+01, 1e+04]\n",
      "  RHS range        [1e+00, 1e+00]\n",
      "  QRHS range       [8e+04, 1e+06]\n",
      "\n",
      "Continuous model is non-convex -- solving as a MIP\n",
      "\n",
      "Presolve time: 0.00s\n",
      "Presolved: 15 rows, 12 columns, 44 nonzeros\n",
      "Presolved model has 5 bilinear constraint(s)\n",
      "Variable types: 12 continuous, 0 integer (0 binary)\n",
      "Found heuristic solution: objective 7049.2480205\n",
      "\n",
      "Root relaxation: objective 2.717132e+03, 11 iterations, 0.00 seconds (0.00 work units)\n",
      "\n",
      "    Nodes    |    Current Node    |     Objective Bounds      |     Work\n",
      " Expl Unexpl |  Obj  Depth IntInf | Incumbent    BestBd   Gap | It/Node Time\n",
      "\n",
      "     0     0 2717.13174    0    2 7049.24802 2717.13174  61.5%     -    0s\n",
      "     0     0 2786.38840    0    3 7049.24802 2786.38840  60.5%     -    0s\n",
      "     0     0 3339.49978    0    3 7049.24802 3339.49978  52.6%     -    0s\n",
      "     0     0 3339.68218    0    3 7049.24802 3339.68218  52.6%     -    0s\n",
      "     0     0 3362.40526    0    3 7049.24802 3362.40526  52.3%     -    0s\n",
      "     0     2 3362.40526    0    3 7049.24802 3362.40526  52.3%     -    0s\n",
      "\n",
      "Cutting planes:\n",
      "  RLT: 3\n",
      "\n",
      "Explored 2418 nodes (2934 simplex iterations) in 0.14 seconds (0.01 work units)\n",
      "Thread count was 16 (of 16 available processors)\n",
      "\n",
      "Solution count 1: 7049.25 \n",
      "\n",
      "Optimal solution found (tolerance 1.00e-04)\n",
      "Best objective 7.049248020539e+03, best bound 7.049244525118e+03, gap 0.0000%\n",
      "7049.248020538567\n",
      "[579.3066844257957, 1359.9706680592556, 5109.9706680535155, 182.01769958088101, 295.60117327799134, 217.98230041878287, 286.4165263027629, 395.60117327795905]\n"
     ]
    }
   ],
   "source": [
    "## Nonlinear - nonconvex\n",
    "m = gp.Model('NonLinMcCormick')\n",
    "x = define_variables(m)\n",
    "m.update()\n",
    "define_objective(m,x)\n",
    "nonlinear_constraints(m,x)\n",
    "\n",
    "# m.write('nonlinear_mc_cormick.lp')\n",
    "m.Params.OutputFlag = 0\n",
    "# m.Params.SolutionLimit = 1\n",
    "m.optimize()\n",
    "\n",
    "print(m.getObjective().getValue())\n",
    "print(var_values(x))"
   ]
  },
  {
   "cell_type": "code",
   "execution_count": 340,
   "metadata": {},
   "outputs": [
    {
     "name": "stdout",
     "output_type": "stream",
     "text": [
      "Set parameter NonConvex to value 2\n",
      "Gurobi Optimizer version 11.0.0 build v11.0.0rc2 (win64 - Windows 11+.0 (26120.2))\n",
      "\n",
      "CPU model: AMD Ryzen 7 2700X Eight-Core Processor, instruction set [SSE2|AVX|AVX2]\n",
      "Thread count: 8 physical cores, 16 logical processors, using up to 16 threads\n",
      "\n",
      "Optimize a model with 26 rows, 13 columns and 77 nonzeros\n",
      "Model fingerprint: 0x2e1f18af\n",
      "Coefficient statistics:\n",
      "  Matrix range     [3e-03, 1e+04]\n",
      "  Objective range  [1e+00, 1e+00]\n",
      "  Bounds range     [1e+01, 1e+04]\n",
      "  RHS range        [1e+00, 1e+07]\n",
      "Presolve time: 0.01s\n",
      "Presolved: 26 rows, 13 columns, 77 nonzeros\n",
      "\n",
      "Iteration    Objective       Primal Inf.    Dual Inf.      Time\n",
      "       0    2.1000000e+03   2.045313e+04   0.000000e+00      0s\n",
      "      14    2.5332008e+03   0.000000e+00   0.000000e+00      0s\n",
      "\n",
      "Solved in 14 iterations and 0.01 seconds (0.00 work units)\n",
      "Optimal objective  2.533200803e+03\n",
      "2533.200802906578\n",
      "[352.34869495741, 1180.852107949168, 1000.0, 364.765130504259, 460.0, 35.234869495740995, 304.76513050425905, 560.0]\n"
     ]
    }
   ],
   "source": [
    "## Relaxation - basic McCormick linearization\n",
    "n = gp.Model('LinMcCormick')\n",
    "y = define_variables(n)\n",
    "n.update()\n",
    "c16 = mc_cormick(n,y[1],y[6],'c16')\n",
    "c24 = mc_cormick(n,y[2],y[4],'c24')\n",
    "c27 = mc_cormick(n,y[2],y[7],'c27')\n",
    "c35 = mc_cormick(n,y[3],y[5],'c35')\n",
    "c38 = mc_cormick(n,y[3],y[8],'c38')\n",
    "\n",
    "define_objective(n,y)\n",
    "linear_constraint(n,y,c16,c24,c27,c35,c38)\n",
    "\n",
    "n.write('linear_mc_cormick.lp')\n",
    "n.Params.OutputFlag = 0\n",
    "m.Params.NonConvex = 2\n",
    "# m.Params.SolutionLimit = 1\n",
    "n.optimize()\n",
    "\n",
    "\n",
    "print(n.getObjective().getValue())\n",
    "print(var_values(y))"
   ]
  },
  {
   "cell_type": "code",
   "execution_count": 342,
   "metadata": {},
   "outputs": [
    {
     "name": "stdout",
     "output_type": "stream",
     "text": [
      "Runtime difference = 0.13900017738342285\n",
      "Objective difference = 4516.047217631989\n",
      "Objective_m =  7049.248020538567\n"
     ]
    },
    {
     "data": {
      "text/plain": [
       "{1: <gurobi.Var x[1] (value 579.3066844257957)>,\n",
       " 2: <gurobi.Var x[2] (value 1359.9706680592556)>,\n",
       " 3: <gurobi.Var x[3] (value 5109.9706680535155)>,\n",
       " 4: <gurobi.Var x[4] (value 182.01769958088101)>,\n",
       " 5: <gurobi.Var x[5] (value 295.60117327799134)>,\n",
       " 6: <gurobi.Var x[6] (value 217.98230041878287)>,\n",
       " 7: <gurobi.Var x[7] (value 286.4165263027629)>,\n",
       " 8: <gurobi.Var x[8] (value 395.60117327795905)>}"
      ]
     },
     "execution_count": 342,
     "metadata": {},
     "output_type": "execute_result"
    }
   ],
   "source": [
    "print('Runtime difference =', m.Runtime - n.Runtime)\n",
    "print('Objective difference =', m.getObjective().getValue() - n.getObjective().getValue())\n",
    "print('Objective_m = ', m.getObjective().getValue())\n",
    "x"
   ]
  }
 ],
 "metadata": {
  "kernelspec": {
   "display_name": "python38",
   "language": "python",
   "name": "python3"
  },
  "language_info": {
   "codemirror_mode": {
    "name": "ipython",
    "version": 3
   },
   "file_extension": ".py",
   "mimetype": "text/x-python",
   "name": "python",
   "nbconvert_exporter": "python",
   "pygments_lexer": "ipython3",
   "version": "3.8.18"
  }
 },
 "nbformat": 4,
 "nbformat_minor": 2
}
