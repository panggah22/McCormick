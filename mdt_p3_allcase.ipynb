{
 "cells": [
  {
   "cell_type": "code",
   "execution_count": 1,
   "metadata": {},
   "outputs": [],
   "source": [
    "import numpy as np\n",
    "import math\n",
    "\n",
    "import gurobipy as gp\n",
    "from gurobipy import GRB, tuplelist\n",
    "\n",
    "import pandas as pd"
   ]
  },
  {
   "cell_type": "code",
   "execution_count": 2,
   "metadata": {},
   "outputs": [],
   "source": [
    "idx_x = np.arange(1,9,1)\n",
    "set_x = tuplelist([i for i in idx_x])"
   ]
  },
  {
   "cell_type": "code",
   "execution_count": 3,
   "metadata": {},
   "outputs": [],
   "source": [
    "def variables_ori(m):\n",
    "    # X\n",
    "    x = m.addVars(set_x, name='x') \n",
    "    x[1].LB, x[1].UB = 100, 10000\n",
    "\n",
    "    for i in [2,3]:\n",
    "        x[i].LB, x[i].UB = 1000, 10000\n",
    "\n",
    "    for i in [4,5,6,7,8]:\n",
    "        x[i].LB, x[i].UB = 10, 1000\n",
    "\n",
    "    return x"
   ]
  },
  {
   "cell_type": "code",
   "execution_count": 4,
   "metadata": {},
   "outputs": [],
   "source": [
    "def objective_ori(m,x):\n",
    "    sum_x = sum(x[i] for i in [1,2,3])\n",
    "\n",
    "    m.setObjective(sum_x, GRB.MINIMIZE)"
   ]
  },
  {
   "cell_type": "code",
   "execution_count": 5,
   "metadata": {},
   "outputs": [],
   "source": [
    "def constraints_ori(m,x):\n",
    "    m.addConstr(0.0025*(x[4] + x[6]) - 1 <= 0)\n",
    "    m.addConstr(0.0025*(-x[4] + x[5] + x[7]) - 1 <= 0)\n",
    "    m.addConstr(0.01*(-x[5] + x[8]) - 1 <= 0)\n",
    "    m.addConstr(100*x[1] - x[1]*x[6] + 833.33252*x[4] - 83333.333 <= 0)\n",
    "    m.addConstr(x[2]*x[4] - x[2]*x[7] - 1250*x[4] + 1250*x[5] <= 0)\n",
    "    m.addConstr(x[3]*x[5] - x[3]*x[8] - 2500*x[5] + 1250000 <= 0)"
   ]
  },
  {
   "cell_type": "code",
   "execution_count": 6,
   "metadata": {},
   "outputs": [],
   "source": [
    "def constraints_mdt(m,x):\n",
    "    pairs = tuplelist([(1,6),(2,4),(2,7),(3,5),(3,8)])\n",
    "    w = m.addVars(pairs, name='w')\n",
    "\n",
    "    m.addConstr(0.0025*(x[4] + x[6]) - 1 <= 0)\n",
    "    m.addConstr(0.0025*(-x[4] + x[5] + x[7]) - 1 <= 0)\n",
    "    m.addConstr(0.01*(-x[5] + x[8]) - 1 <= 0)\n",
    "    m.addConstr(100*x[1] - w[1,6] + 833.33252*x[4] - 83333.333 <= 0)\n",
    "    m.addConstr(w[2,4] - w[2,7] - 1250*x[4] + 1250*x[5] <= 0)\n",
    "    m.addConstr(w[3,5] - w[3,8] - 2500*x[5] + 1250000 <= 0)\n",
    "\n",
    "    return w,pairs"
   ]
  },
  {
   "cell_type": "code",
   "execution_count": 7,
   "metadata": {},
   "outputs": [],
   "source": [
    "from collections import Counter\n",
    "# To find the unique elements from the tuple using the counter\n",
    "\n",
    "def unique_num(numbers):\n",
    "    # this will take only unique numbers from the tuple\n",
    "    return tuple(Counter(numbers).keys())"
   ]
  },
  {
   "cell_type": "code",
   "execution_count": 8,
   "metadata": {},
   "outputs": [],
   "source": [
    "def relax_mdt(m,x,p=0,P=0):\n",
    "    w,pairs = constraints_mdt(m,x)\n",
    "    left_set = unique_num([i[0] for i in pairs])\n",
    "    right_set = unique_num([i[1] for i in pairs])\n",
    "\n",
    "    set_l = range(p,P+1)\n",
    "    set_k = range(10)\n",
    "    set_kl = tuplelist([(i,j,k,l) for l in set_l for k in set_k for i,j in pairs])\n",
    "    set_z = tuplelist([(i,k,l) for l in set_l for k in set_k for i in left_set])\n",
    "    # w,pairs = constraints_mdt(m,x)\n",
    "    \n",
    "\n",
    "    # Here, 'left_set' are the variables that are discretized and 'right_set' are the variables that are continuous\n",
    "    delta_w = m.addVars(pairs, lb=-GRB.INFINITY, ub=GRB.INFINITY, name='delta_w')\n",
    "    delta_x1 = m.addVars(left_set, lb=0, ub=10**p, name='delta_x1')\n",
    "    \n",
    "    # Indexed continuous variables (hat_x_k) and binary variables (z_k)\n",
    "    hat_x = m.addVars(set_kl, lb=-GRB.INFINITY, ub=GRB.INFINITY, vtype=GRB.CONTINUOUS, name='hat_x')\n",
    "    z = m.addVars(set_z, vtype=GRB.BINARY, name='z')\n",
    "\n",
    "    m.update()\n",
    "        \n",
    "    m.addConstrs((w[i,j] == gp.quicksum(gp.quicksum(10**l * k * hat_x[i,j,k,l] for k in set_k) for l in set_l) + delta_w[i,j] for i,j in pairs))\n",
    "\n",
    "    m.addConstrs((x[i] == gp.quicksum(gp.quicksum(10**l * k * z[i,k,l] for k in set_k) for l in set_l) + delta_x1[i] for i in left_set))\n",
    "\n",
    "    m.addConstrs((x[j] == gp.quicksum(hat_x[i,j,k,l] for k in set_k) for l in set_l for i,j in pairs))\n",
    "\n",
    "    m.addConstrs((hat_x[i,j,k,l] >= x[j].LB * z[i,k,l] for i,j,k,l in set_kl))\n",
    "    m.addConstrs((hat_x[i,j,k,l] <= x[j].UB * z[i,k,l] for i,j,k,l in set_kl))\n",
    "\n",
    "    m.addConstrs((z.sum(i,'*',l) == 1 for i,k,l in set_z))\n",
    "\n",
    "    m.addConstrs((delta_w[i,j] >= x[j].LB * delta_x1[i] for i,j in pairs))\n",
    "    m.addConstrs((delta_w[i,j] <= x[j].UB * delta_x1[i] for i,j in pairs))\n",
    "\n",
    "    \n",
    "\n",
    "    return w, delta_w, delta_x1, hat_x, z    # output variables for main program"
   ]
  },
  {
   "cell_type": "code",
   "execution_count": 9,
   "metadata": {},
   "outputs": [
    {
     "name": "stdout",
     "output_type": "stream",
     "text": [
      "Set parameter Username\n",
      "Academic license - for non-commercial use only - expires 2025-01-25\n",
      "Warning: variables 8 and 13 have the same name \"w[1,6]\"\n",
      "Warning: to let Gurobi read it back, use rlp format\n",
      "Gurobi Optimizer version 11.0.0 build v11.0.0rc2 (win64 - Windows 11+.0 (26120.2))\n",
      "\n",
      "CPU model: AMD Ryzen 7 2700X Eight-Core Processor, instruction set [SSE2|AVX|AVX2]\n",
      "Thread count: 8 physical cores, 16 logical processors, using up to 16 threads\n",
      "\n",
      "Optimize a model with 435 rows, 266 columns and 1951 nonzeros\n",
      "Model fingerprint: 0x2d2b17bd\n",
      "Variable types: 176 continuous, 90 integer (90 binary)\n",
      "Coefficient statistics:\n",
      "  Matrix range     [3e-03, 9e+04]\n",
      "  Objective range  [1e+00, 1e+00]\n",
      "  Bounds range     [1e+00, 1e+04]\n",
      "  RHS range        [1e+00, 1e+06]\n",
      "Presolve removed 190 rows and 87 columns\n",
      "Presolve time: 0.00s\n",
      "Presolved: 245 rows, 179 columns, 795 nonzeros\n",
      "Variable types: 116 continuous, 63 integer (63 binary)\n",
      "Found heuristic solution: objective 9100.0000000\n",
      "\n",
      "Root relaxation: objective 2.100000e+03, 35 iterations, 0.00 seconds (0.00 work units)\n",
      "\n",
      "    Nodes    |    Current Node    |     Objective Bounds      |     Work\n",
      " Expl Unexpl |  Obj  Depth IntInf | Incumbent    BestBd   Gap | It/Node Time\n",
      "\n",
      "     0     0 2100.00000    0    6 9100.00000 2100.00000  76.9%     -    0s\n",
      "H    0     0                    8100.0000000 2100.00000  74.1%     -    0s\n",
      "H    0     0                    5114.0941352 2100.00000  58.9%     -    0s\n",
      "     0     0 2100.00000    0    9 5114.09414 2100.00000  58.9%     -    0s\n",
      "     0     0 2100.00000    0    8 5114.09414 2100.00000  58.9%     -    0s\n",
      "     0     0 2100.00000    0   11 5114.09414 2100.00000  58.9%     -    0s\n",
      "     0     0 2100.00000    0    9 5114.09414 2100.00000  58.9%     -    0s\n",
      "     0     0 2100.00000    0    9 5114.09414 2100.00000  58.9%     -    0s\n",
      "     0     0 2100.00000    0    9 5114.09414 2100.00000  58.9%     -    0s\n",
      "     0     2 2100.00000    0    9 5114.09414 2100.00000  58.9%     -    0s\n",
      "H   68    76                    4574.7001958 2447.07264  46.5%  13.0    0s\n",
      "H   85    91                    4397.6428134 2447.07264  44.4%  10.8    0s\n",
      "*  146   123              19    4388.9613739 2447.07264  44.2%   8.2    0s\n",
      "*  683   149              15    4299.0623840 3332.13011  22.5%   8.3    0s\n",
      "\n",
      "Cutting planes:\n",
      "  Gomory: 2\n",
      "  Cover: 3\n",
      "  Implied bound: 3\n",
      "  MIR: 11\n",
      "  StrongCG: 1\n",
      "  Flow cover: 10\n",
      "  GUB cover: 1\n",
      "  Inf proof: 1\n",
      "\n",
      "Explored 1645 nodes (11907 simplex iterations) in 0.22 seconds (0.09 work units)\n",
      "Thread count was 16 (of 16 available processors)\n",
      "\n",
      "Solution count 7: 4299.06 4388.96 4397.64 ... 9100\n",
      "\n",
      "Optimal solution found (tolerance 1.00e-04)\n",
      "Best objective 4.299062383982e+03, best bound 4.299062383982e+03, gap 0.0000%\n"
     ]
    }
   ],
   "source": [
    "m = gp.Model('MDT')\n",
    "x = variables_ori(m)\n",
    "constraints_mdt(m,x)\n",
    "objective_ori(m,x)\n",
    "m.update()\n",
    "# P = int(math.log10(1000))\n",
    "w, delta_w, delta_x1, hat_x, z = relax_mdt(m,x,p=2,P=4)\n",
    "\n",
    "m.update()\n",
    "m.write('P3.lp')\n",
    "m.optimize()"
   ]
  },
  {
   "cell_type": "code",
   "execution_count": 10,
   "metadata": {},
   "outputs": [
    {
     "data": {
      "text/plain": [
       "4.0"
      ]
     },
     "execution_count": 10,
     "metadata": {},
     "output_type": "execute_result"
    }
   ],
   "source": [
    "math.log10(10000)"
   ]
  },
  {
   "cell_type": "code",
   "execution_count": 11,
   "metadata": {},
   "outputs": [],
   "source": [
    "def optimize_problem(p,P):\n",
    "    m = gp.Model('MDT')\n",
    "    x = variables_ori(m)\n",
    "    m.update()\n",
    "    w = relax_mdt(m,x)\n",
    "    \n",
    "    "
   ]
  },
  {
   "cell_type": "code",
   "execution_count": 12,
   "metadata": {},
   "outputs": [],
   "source": [
    "## Defining the upper bound\n",
    "m = gp.Model('P3')\n",
    "x = variables_ori(m)\n",
    "m.update()\n",
    "objective_ori(m,x)\n",
    "constraints_ori(m,x)\n",
    "\n",
    "m.Params.OutputFlag = 0\n",
    "m.Params.NonConvex = 2\n",
    "m.optimize()\n",
    "\n",
    "x_res = [(i, x[i].X) for i in set_x]\n",
    "df = pd.DataFrame(x_res, columns=['Index', 'x_upper'])\n",
    "df = df.set_index('Index')"
   ]
  },
  {
   "cell_type": "code",
   "execution_count": 13,
   "metadata": {},
   "outputs": [
    {
     "name": "stdout",
     "output_type": "stream",
     "text": [
      "           x_upper\n",
      "Index             \n",
      "1       579.306684\n",
      "2      1359.970668\n",
      "3      5109.970668\n",
      "4       182.017700\n",
      "5       295.601173\n",
      "6       217.982300\n",
      "7       286.416526\n",
      "8       395.601173\n"
     ]
    }
   ],
   "source": [
    "print(df)"
   ]
  }
 ],
 "metadata": {
  "kernelspec": {
   "display_name": "python38",
   "language": "python",
   "name": "python3"
  },
  "language_info": {
   "codemirror_mode": {
    "name": "ipython",
    "version": 3
   },
   "file_extension": ".py",
   "mimetype": "text/x-python",
   "name": "python",
   "nbconvert_exporter": "python",
   "pygments_lexer": "ipython3",
   "version": "3.8.18"
  }
 },
 "nbformat": 4,
 "nbformat_minor": 2
}
