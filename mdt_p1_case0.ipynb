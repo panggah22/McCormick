{
 "cells": [
  {
   "cell_type": "code",
   "execution_count": 88,
   "metadata": {},
   "outputs": [],
   "source": [
    "# Load libraries\n",
    "import gurobipy as gp\n",
    "from gurobipy import GRB,tuplelist"
   ]
  },
  {
   "cell_type": "code",
   "execution_count": 89,
   "metadata": {},
   "outputs": [],
   "source": [
    "# Set parameters\n",
    "P = 0\n",
    "p = -5   # Defining the accuracy\n",
    "set_l = range(p,P+1)\n",
    "set_k = range(10)\n",
    "set_kl = tuplelist([(k,l) for l in set_l for k in set_k])\n",
    "\n",
    "m = gp.Model('MDT')\n",
    "\n",
    "# Define the continuous variables\n",
    "x1 = m.addVar(lb=0, ub=1.5, vtype=GRB.CONTINUOUS, name=\"x1\")\n",
    "x2 = m.addVar(lb=0, ub=1.5, vtype=GRB.CONTINUOUS, name=\"x2\")\n",
    "\n",
    "# print([i for i in set_kl])"
   ]
  },
  {
   "cell_type": "code",
   "execution_count": 90,
   "metadata": {},
   "outputs": [],
   "source": [
    "m.update()\n",
    "\n",
    "w12 = m.addVar(vtype=GRB.CONTINUOUS, name=\"w12\")\n",
    "Delta_w12 = m.addVar(lb=0, ub=1.5 * x1.UB, vtype=GRB.CONTINUOUS, name=\"Delta_w12\")  # 1.5 * 1.5 upper bound\n",
    "Delta_x1 = m.addVar(lb=0, ub=1.5 * 10**p, vtype=GRB.CONTINUOUS, name=\"Delta_x1\")"
   ]
  },
  {
   "cell_type": "code",
   "execution_count": 91,
   "metadata": {},
   "outputs": [],
   "source": [
    "# Define the indexed continuous variables (hat_x_k) and binary variables (z_k)\n",
    "hat_x = m.addVars(set_kl, lb=0, ub=1.5, vtype=GRB.CONTINUOUS, name=\"hat_x\")\n",
    "z = m.addVars(set_kl, vtype=GRB.BINARY, name=\"z\")\n",
    "\n",
    "# Set the objective function: Minimize f = -x1 + w12 - x2\n",
    "m.setObjective(-x1 + w12 - x2, GRB.MINIMIZE)\n",
    "m.update()\n",
    "# hat_x"
   ]
  },
  {
   "cell_type": "code",
   "execution_count": 92,
   "metadata": {},
   "outputs": [
    {
     "name": "stdout",
     "output_type": "stream",
     "text": [
      "Gurobi Optimizer version 11.0.0 build v11.0.0rc2 (win64 - Windows 11+.0 (26120.2))\n",
      "\n",
      "CPU model: AMD Ryzen 7 2700X Eight-Core Processor, instruction set [SSE2|AVX|AVX2]\n",
      "Thread count: 8 physical cores, 16 logical processors, using up to 16 threads\n",
      "\n",
      "Optimize a model with 82 rows, 125 columns and 372 nonzeros\n",
      "Model fingerprint: 0xc95bf073\n",
      "Variable types: 65 continuous, 60 integer (60 binary)\n",
      "Coefficient statistics:\n",
      "  Matrix range     [1e-05, 9e+00]\n",
      "  Objective range  [1e+00, 1e+00]\n",
      "  Bounds range     [2e-05, 2e+00]\n",
      "  RHS range        [2e-05, 3e+00]\n",
      "Found heuristic solution: objective -0.9112900\n",
      "Presolve removed 19 rows and 23 columns\n",
      "Presolve time: 0.00s\n",
      "Presolved: 63 rows, 102 columns, 263 nonzeros\n",
      "Variable types: 56 continuous, 46 integer (46 binary)\n",
      "\n",
      "Root relaxation: objective -1.775501e+00, 51 iterations, 0.00 seconds (0.00 work units)\n",
      "\n",
      "    Nodes    |    Current Node    |     Objective Bounds      |     Work\n",
      " Expl Unexpl |  Obj  Depth IntInf | Incumbent    BestBd   Gap | It/Node Time\n",
      "\n",
      "     0     0   -1.77550    0    6   -0.91129   -1.77550  94.8%     -    0s\n",
      "H    0     0                      -1.0000037   -1.77550  77.5%     -    0s\n",
      "H    0     0                      -1.0046326   -1.20833  20.3%     -    0s\n",
      "     0     0   -1.20833    0    7   -1.00463   -1.20833  20.3%     -    0s\n",
      "H    0     0                      -1.0300084   -1.20833  17.3%     -    0s\n",
      "H    0     0                      -1.0500050   -1.20833  15.1%     -    0s\n",
      "H    0     0                      -1.0799844   -1.20833  11.9%     -    0s\n",
      "H    0     0                      -1.0800044   -1.20833  11.9%     -    0s\n"
     ]
    },
    {
     "name": "stdout",
     "output_type": "stream",
     "text": [
      "     0     0   -1.11373    0    7   -1.08000   -1.11373  3.12%     -    0s\n",
      "H    0     0                      -1.0801995   -1.11373  3.10%     -    0s\n",
      "H    0     0                      -1.0815887   -1.11373  2.97%     -    0s\n",
      "     0     2   -1.11373    0    6   -1.08159   -1.11373  2.97%     -    0s\n",
      "H    9     5                      -1.0817027   -1.11373  2.96%  10.1    0s\n",
      "H   19     7                      -1.0817041   -1.11078  2.69%   6.5    0s\n",
      "H   20     7                      -1.0828037   -1.11078  2.58%   6.5    0s\n",
      "H   32    11                      -1.0832031   -1.10000  1.55%   4.7    0s\n",
      "H   35    11                      -1.0833034   -1.09545  1.12%   4.3    0s\n",
      "H   43    12                      -1.0833204   -1.09074  0.68%   3.8    0s\n",
      "H   55    17                      -1.0833314   -1.08619  0.26%   3.2    0s\n",
      "*   81    31              15      -1.0833363   -1.08619  0.26%   2.8    0s\n",
      "H  100    37                      -1.0833364   -1.08591  0.24%   2.6    0s\n",
      "H  101    37                      -1.0833364   -1.08591  0.24%   2.6    0s\n",
      "H  123    46                      -1.0833364   -1.08591  0.24%   2.5    0s\n",
      "*  150    57              23      -1.0833365   -1.08591  0.24%   2.4    0s\n",
      "H  182    61                      -1.0833365   -1.08591  0.24%   2.3    0s\n",
      "H  190    61                      -1.0833367   -1.08591  0.24%   2.2    0s\n",
      "H  311    77                      -1.0833367   -1.08363  0.03%   2.0    0s\n",
      "*  418    85              19      -1.0833367   -1.08353  0.02%   1.9    0s\n",
      "H  421    85                      -1.0833367   -1.08353  0.02%   1.8    0s\n",
      "\n",
      "Cutting planes:\n",
      "  Gomory: 1\n",
      "  Cover: 1\n",
      "  MIR: 1\n",
      "  Flow cover: 1\n",
      "\n",
      "Explored 655 nodes (1159 simplex iterations) in 0.18 seconds (0.02 work units)\n",
      "Thread count was 16 (of 16 available processors)\n",
      "\n",
      "Solution count 10: -1.08334 -1.08334 -1.08334 ... -1.08334\n",
      "\n",
      "Optimal solution found (tolerance 1.00e-04)\n",
      "Best objective -1.083336666667e+00, best bound -1.083361636767e+00, gap 0.0023%\n"
     ]
    }
   ],
   "source": [
    "# Constraint 1: -6*x1 + 8*x2 <= 3\n",
    "m.addConstr(-6*x1 + 8*x2 <= 3, \"c1\")\n",
    "\n",
    "# Constraint 2: 3*x1 - x2 <= 3\n",
    "m.addConstr(3*x1 - x2 <= 3, \"c2\")\n",
    "\n",
    "# Constraint 3: w12 = sum(k * hat_x[k]) + Delta_w12\n",
    "m.addConstr(w12 == gp.quicksum(gp.quicksum(10**l * k * hat_x[k,l] for k in set_k) for l in set_l) + Delta_w12, \"c3\")\n",
    "\n",
    "# Constraint 4: x1 = sum(10^0 * k * z_k) + Delta_x1\n",
    "m.addConstr(x1 == gp.quicksum(gp.quicksum(10**l * k * z[k,l] for k in set_k) for l in set_l) + Delta_x1, \"c4\")\n",
    "\n",
    "# Constraint 5: x2 = sum(hat_x[k])\n",
    "m.addConstrs((x2 == gp.quicksum(hat_x[k,l] for k in set_k) for l in set_l), \"c5\")\n",
    "\n",
    "# Constraint 6: hat_x[k] <= 1.5 * z[k] for all k\n",
    "# for k in range(10):\n",
    "m.addConstrs((hat_x[k,l] <= 1.5 * z[k,l] for k,l in set_kl), \"c6\")\n",
    "\n",
    "# Constraint 7: Sum(z_k) = 1\n",
    "m.addConstrs((gp.quicksum(z[k,l] for k in set_k) == 1 for l in set_l), \"c7\")\n",
    "\n",
    "# Constraint 8: 0 <= Delta_w12 <= 1.5 * Delta_x1\n",
    "m.addConstr(Delta_w12 >= 0, \"c8a\")\n",
    "m.addConstr(Delta_w12 <= 1.5 * Delta_x1, \"c8b\")\n",
    "\n",
    "# Constraint 9: (x2 - 1.5) * 10^0 + 1.5 * Delta_x1 <= Delta_w12 <= x2 * 10^0\n",
    "m.addConstr((x2 - 1.5) * 10**p + 1.5 * Delta_x1 <= Delta_w12, \"c9a\")\n",
    "m.addConstr(Delta_w12 <= x2 * 10**p, \"c9b\")\n",
    "\n",
    "# Constraint 10: 0 <= Delta_x1 <= 1.5 * 10^0\n",
    "m.addConstr(Delta_x1 >= 0, \"c10a\")\n",
    "m.addConstr(Delta_x1 <= 1.5 * 10**p, \"c10b\")\n",
    "\n",
    "# Constraint 11: 0 <= hat_x[k] <= 1.5 for all k\n",
    "# for k in range(10):\n",
    "#     m.addConstr(hat_x[k] >= 0, f\"c11a_{k}\")\n",
    "#     m.addConstr(hat_x[k] <= 1.5, f\"c11b_{k}\")\n",
    "\n",
    "# Optimize the m\n",
    "m.Params.OutputFlag = 1\n",
    "m.write('kk.lp')\n",
    "m.optimize()"
   ]
  },
  {
   "cell_type": "code",
   "execution_count": 99,
   "metadata": {},
   "outputs": [
    {
     "name": "stdout",
     "output_type": "stream",
     "text": [
      "There are 125 variables and 82 constraints\n",
      "The program runs for 0.18700003623962402 seconds\n"
     ]
    }
   ],
   "source": [
    "print('There are', m.NumVars, 'variables and', m.NumConstrs, 'constraints')\n",
    "print('The program runs for', m.Runtime, 'seconds')"
   ]
  },
  {
   "cell_type": "code",
   "execution_count": 94,
   "metadata": {},
   "outputs": [
    {
     "data": {
      "text/plain": [
       "<gurobi.Var Delta_x1 (value 6.666666666666668e-06)>"
      ]
     },
     "execution_count": 94,
     "metadata": {},
     "output_type": "execute_result"
    }
   ],
   "source": [
    "Delta_x1"
   ]
  }
 ],
 "metadata": {
  "kernelspec": {
   "display_name": "python38",
   "language": "python",
   "name": "python3"
  },
  "language_info": {
   "codemirror_mode": {
    "name": "ipython",
    "version": 3
   },
   "file_extension": ".py",
   "mimetype": "text/x-python",
   "name": "python",
   "nbconvert_exporter": "python",
   "pygments_lexer": "ipython3",
   "version": "3.8.18"
  }
 },
 "nbformat": 4,
 "nbformat_minor": 2
}
