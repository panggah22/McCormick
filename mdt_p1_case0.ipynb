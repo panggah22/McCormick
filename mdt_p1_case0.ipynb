{
 "cells": [
  {
   "cell_type": "code",
   "execution_count": 165,
   "metadata": {},
   "outputs": [],
   "source": [
    "# Load libraries\n",
    "import gurobipy as gp\n",
    "from gurobipy import GRB,tuplelist"
   ]
  },
  {
   "cell_type": "code",
   "execution_count": 166,
   "metadata": {},
   "outputs": [],
   "source": [
    "# Set parameters\n",
    "P = 0\n",
    "p = -5    # Defining the accuracy\n",
    "set_l = range(p,P+1)\n",
    "set_k = range(10)\n",
    "set_kl = tuplelist([(k,l) for l in set_l for k in set_k])\n",
    "\n",
    "m = gp.Model('MDT')\n",
    "\n",
    "# Define the continuous variables\n",
    "x1 = m.addVar(lb=0, ub=1.5, vtype=GRB.CONTINUOUS, name=\"x1\")\n",
    "x2 = m.addVar(lb=0, ub=1.5, vtype=GRB.CONTINUOUS, name=\"x2\")\n",
    "\n",
    "# print([i for i in set_kl])"
   ]
  },
  {
   "cell_type": "code",
   "execution_count": 167,
   "metadata": {},
   "outputs": [],
   "source": [
    "m.update()\n",
    "\n",
    "w12 = m.addVar(vtype=GRB.CONTINUOUS, name=\"w12\")\n",
    "Delta_w12 = m.addVar(lb=0, ub=1.5 * x1.UB, vtype=GRB.CONTINUOUS, name=\"Delta_w12\")  # 1.5 * 1.5 upper bound\n",
    "Delta_x1 = m.addVar(lb=0, ub=1.5 * 10**p, vtype=GRB.CONTINUOUS, name=\"Delta_x1\")"
   ]
  },
  {
   "cell_type": "code",
   "execution_count": 168,
   "metadata": {},
   "outputs": [],
   "source": [
    "# Define the indexed continuous variables (hat_x_k) and binary variables (z_k)\n",
    "hat_x = m.addVars(set_kl, lb=0, ub=1.5, vtype=GRB.CONTINUOUS, name=\"hat_x\")\n",
    "z = m.addVars(set_kl, vtype=GRB.BINARY, name=\"z\")\n",
    "\n",
    "# Set the objective function: Minimize f = -x1 + w12 - x2\n",
    "m.setObjective(-x1 + w12 - x2, GRB.MINIMIZE)\n",
    "m.update()\n",
    "# hat_x"
   ]
  },
  {
   "cell_type": "code",
   "execution_count": 169,
   "metadata": {},
   "outputs": [
    {
     "name": "stdout",
     "output_type": "stream",
     "text": [
      "Gurobi Optimizer version 11.0.0 build v11.0.0rc2 (win64 - Windows 11+.0 (26120.2))\n",
      "\n",
      "CPU model: AMD Ryzen 7 2700X Eight-Core Processor, instruction set [SSE2|AVX|AVX2]\n",
      "Thread count: 8 physical cores, 16 logical processors, using up to 16 threads\n",
      "\n",
      "Optimize a model with 82 rows, 125 columns and 372 nonzeros\n",
      "Model fingerprint: 0x400476b0\n",
      "Variable types: 65 continuous, 60 integer (60 binary)\n",
      "Coefficient statistics:\n",
      "  Matrix range     [1e-05, 9e+00]\n",
      "  Objective range  [1e+00, 1e+00]\n",
      "  Bounds range     [2e-05, 2e+00]\n",
      "  RHS range        [2e-05, 3e+00]\n",
      "Found heuristic solution: objective -0.0002900\n",
      "Presolve removed 13 rows and 8 columns\n",
      "Presolve time: 0.00s\n",
      "Presolved: 69 rows, 117 columns, 295 nonzeros\n",
      "Found heuristic solution: objective -0.0005475\n",
      "Variable types: 63 continuous, 54 integer (54 binary)\n",
      "\n",
      "Root relaxation: objective -3.750148e-01, 8 iterations, 0.00 seconds (0.00 work units)\n",
      "\n",
      "    Nodes    |    Current Node    |     Objective Bounds      |     Work\n",
      " Expl Unexpl |  Obj  Depth IntInf | Incumbent    BestBd   Gap | It/Node Time\n",
      "\n",
      "     0     0   -0.37501    0    6   -0.00055   -0.37501      -     -    0s\n",
      "H    0     0                      -0.3750138   -0.37501  0.00%     -    0s\n",
      "\n",
      "Explored 1 nodes (8 simplex iterations) in 0.02 seconds (0.00 work units)\n",
      "Thread count was 16 (of 16 available processors)\n",
      "\n",
      "Solution count 3: -0.375014 -0.000547497 -0.00029 \n",
      "\n",
      "Optimal solution found (tolerance 1.00e-04)\n",
      "Best objective -3.750137500312e-01, best bound -3.750147777197e-01, gap 0.0003%\n"
     ]
    }
   ],
   "source": [
    "# Constraint 1: -6*x1 + 8*x2 <= 3\n",
    "m.addConstr(-6*x1 + 8*x2 <= 3, \"c1\")\n",
    "\n",
    "# Constraint 2: 3*x1 - x2 <= 3\n",
    "m.addConstr(3*x1 - x2 <= 3, \"c2\")\n",
    "\n",
    "# Constraint 3: w12 = sum(k * hat_x[k]) + Delta_w12\n",
    "m.addConstr(w12 == gp.quicksum(gp.quicksum(k * hat_x[k,l] for k in set_k) for l in set_l) + Delta_w12, \"c3\")\n",
    "\n",
    "# Constraint 4: x1 = sum(10^0 * k * z_k) + Delta_x1\n",
    "m.addConstr(x1 == gp.quicksum(gp.quicksum(10**p * k * z[k,l] for k in set_k) for l in set_l) + Delta_x1, \"c4\")\n",
    "\n",
    "# Constraint 5: x2 = sum(hat_x[k])\n",
    "m.addConstrs((x2 == gp.quicksum(hat_x[k,l] for k in set_k) for l in set_l), \"c5\")\n",
    "\n",
    "# Constraint 6: hat_x[k] <= 1.5 * z[k] for all k\n",
    "# for k in range(10):\n",
    "m.addConstrs((hat_x[k,l] <= 1.5 * z[k,l] for k,l in set_kl), \"c6\")\n",
    "\n",
    "# Constraint 7: Sum(z_k) = 1\n",
    "m.addConstrs((gp.quicksum(z[k,l] for k in set_k) == 1 for l in set_l), \"c7\")\n",
    "\n",
    "# Constraint 8: 0 <= Delta_w12 <= 1.5 * Delta_x1\n",
    "m.addConstr(Delta_w12 >= 0, \"c8a\")\n",
    "m.addConstr(Delta_w12 <= 1.5 * Delta_x1, \"c8b\")\n",
    "\n",
    "# Constraint 9: (x2 - 1.5) * 10^0 + 1.5 * Delta_x1 <= Delta_w12 <= x2 * 10^0\n",
    "m.addConstr((x2 - 1.5) * 10**p + 1.5 * Delta_x1 <= Delta_w12, \"c9a\")\n",
    "m.addConstr(Delta_w12 <= x2 * 10**p, \"c9b\")\n",
    "\n",
    "# Constraint 10: 0 <= Delta_x1 <= 1.5 * 10^0\n",
    "m.addConstr(Delta_x1 >= 0, \"c10a\")\n",
    "m.addConstr(Delta_x1 <= 1.5 * 10**p, \"c10b\")\n",
    "\n",
    "# Constraint 11: 0 <= hat_x[k] <= 1.5 for all k\n",
    "# for k in range(10):\n",
    "#     m.addConstr(hat_x[k] >= 0, f\"c11a_{k}\")\n",
    "#     m.addConstr(hat_x[k] <= 1.5, f\"c11b_{k}\")\n",
    "\n",
    "# Optimize the m\n",
    "m.Params.OutputFlag = 1\n",
    "m.write('kk.lp')\n",
    "m.optimize()"
   ]
  },
  {
   "cell_type": "code",
   "execution_count": 170,
   "metadata": {},
   "outputs": [
    {
     "data": {
      "text/plain": [
       "82"
      ]
     },
     "execution_count": 170,
     "metadata": {},
     "output_type": "execute_result"
    }
   ],
   "source": [
    "m.NumConstrs"
   ]
  }
 ],
 "metadata": {
  "kernelspec": {
   "display_name": "python38",
   "language": "python",
   "name": "python3"
  },
  "language_info": {
   "codemirror_mode": {
    "name": "ipython",
    "version": 3
   },
   "file_extension": ".py",
   "mimetype": "text/x-python",
   "name": "python",
   "nbconvert_exporter": "python",
   "pygments_lexer": "ipython3",
   "version": "3.8.18"
  }
 },
 "nbformat": 4,
 "nbformat_minor": 2
}
