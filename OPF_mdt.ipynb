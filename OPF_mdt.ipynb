{
 "cells": [
  {
   "cell_type": "code",
   "execution_count": 1,
   "metadata": {},
   "outputs": [],
   "source": [
    "import pandas as pd\n",
    "import math\n",
    "import matplotlib.pyplot as plt\n",
    "import numpy as np\n",
    "\n",
    "import gurobipy as gp\n",
    "from gurobipy import GRB, tuplelist\n",
    "\n",
    "import pandapower.networks as pn\n",
    "from ieee33 import *"
   ]
  },
  {
   "cell_type": "code",
   "execution_count": 3,
   "metadata": {},
   "outputs": [
    {
     "data": {
      "text/plain": [
       "{0: <gurobi.Var *Awaiting Model Update*>,\n",
       " 1: <gurobi.Var *Awaiting Model Update*>,\n",
       " 2: <gurobi.Var *Awaiting Model Update*>,\n",
       " 3: <gurobi.Var *Awaiting Model Update*>,\n",
       " 4: <gurobi.Var *Awaiting Model Update*>,\n",
       " 5: <gurobi.Var *Awaiting Model Update*>,\n",
       " 6: <gurobi.Var *Awaiting Model Update*>,\n",
       " 7: <gurobi.Var *Awaiting Model Update*>,\n",
       " 8: <gurobi.Var *Awaiting Model Update*>,\n",
       " 9: <gurobi.Var *Awaiting Model Update*>}"
      ]
     },
     "execution_count": 3,
     "metadata": {},
     "output_type": "execute_result"
    }
   ],
   "source": [
    "m = gp.Model('a')\n",
    "a = m.addVars(range(10))\n",
    "a"
   ]
  },
  {
   "cell_type": "code",
   "execution_count": 23,
   "metadata": {},
   "outputs": [],
   "source": [
    "pvloc = {'bus':[9, 15, 19], 'p_max':[0.3, 0.3, 0.3], 'q_min':[-0.3, -0.3, -0.3], 'q_max':[0.3, 0.3, 0.3]}\n",
    "dgloc = {'bus':[3,13,22], 'Pmin':[0,0,0], 'Pmax':[0.5,0.5,0.5], 'Qmin':[-0.3,-0.3,-0.3], 'Qmax':[0.3,0.3,0.3]}\n",
    "essloc = {'bus':[7,21,29],'Cap':[1,1,1],'Pmin':[0,0,0],'Pmax':[0.2,0.2,0.2],'Qmin':[-0.15,-0.15,-0.15],'Qmax':[0.15,0.15,0.15]}"
   ]
  },
  {
   "cell_type": "code",
   "execution_count": 24,
   "metadata": {},
   "outputs": [
    {
     "name": "stdout",
     "output_type": "stream",
     "text": [
      "This pandapower network includes the following parameter tables:\n",
      "   - bus (33 element)\n",
      "   - load (32 element)\n",
      "   - ext_grid (4 element)\n",
      "   - line (32 element)\n",
      "   - poly_cost (1 elements)\n",
      "   - bus_geodata (33 element)\n"
     ]
    }
   ],
   "source": [
    "net,pvdata,essdata = net33(pvloc,dgloc,essloc)"
   ]
  },
  {
   "cell_type": "code",
   "execution_count": 25,
   "metadata": {},
   "outputs": [],
   "source": [
    "gen = net.ext_grid\n",
    "line = net.line\n",
    "bus = net.bus"
   ]
  },
  {
   "cell_type": "code",
   "execution_count": 26,
   "metadata": {},
   "outputs": [],
   "source": [
    "slackbus = [0]\n",
    "T = 4\n",
    "\n",
    "set_t = list(range(T)) # Please dont make in in range(x) format. It should be list or np.arrays\n",
    "\n",
    "nGen = gen.shape[0]\n",
    "set_gen = gen.index\n",
    "gen_t = tuplelist([(i,t) for t in set_t for i in set_gen])\n",
    "\n",
    "nBus = bus.shape[0]\n",
    "set_bus = bus.index\n",
    "bus_t = tuplelist([(i,t) for t in set_t for i in set_bus])\n",
    "\n",
    "nLine = line.shape[0]\n",
    "set_line = line.index\n",
    "line_t = tuplelist([(i,j,t) for t in set_t for i,j in set_line])\n",
    "\n",
    "nPv = pvdata.shape[0]\n",
    "set_pv = pvdata.index\n",
    "pv_t = tuplelist([(i,t) for t in set_t for i in set_pv])\n",
    "\n",
    "nEss = essdata.shape[0]\n",
    "set_ess = essdata.index\n",
    "ess_t = tuplelist([(i,t) for t in set_t for i in set_ess])"
   ]
  },
  {
   "cell_type": "code",
   "execution_count": null,
   "metadata": {},
   "outputs": [],
   "source": []
  },
  {
   "cell_type": "code",
   "execution_count": 27,
   "metadata": {},
   "outputs": [],
   "source": [
    "## Power Flow Variables\n",
    "m = gp.Model('Case33-Linear')\n",
    "vmin, vmax = 0.95, 1.05\n",
    "# theta_i = m.addVars(bus_t, vtype=GRB.CONTINUOUS, lb=-math.pi, ub=math.pi, name='Theta')\n",
    "u_i = m.addVars(bus_t, vtype=GRB.CONTINUOUS, lb=vmin**2, ub=vmax**2, name='V_squared')\n",
    "# v_i = m.addVars(bus_t, vtype=GRB.CONTINUOUS, lb=vmin, ub=vmax, name='V_bus')\n",
    "\n",
    "p_g = m.addVars(gen_t, vtype=GRB.CONTINUOUS, lb=0, ub=gen.Pmax.tolist()*T, name='P_Gen')\n",
    "q_g = m.addVars(gen_t, vtype=GRB.CONTINUOUS, lb=gen.Qmin.tolist()*T, ub=gen.Qmax.tolist()*T, name='Q_Gen')\n",
    "\n",
    "p_inj = m.addVars(bus_t, vtype=GRB.CONTINUOUS, lb=-GRB.INFINITY, ub=GRB.INFINITY, name='P_Inj')\n",
    "q_inj = m.addVars(bus_t, vtype=GRB.CONTINUOUS, lb=-GRB.INFINITY, ub=GRB.INFINITY, name='Q_Inj')\n",
    "\n",
    "br_lim = 5\n",
    "p_ij = m.addVars(line_t, vtype=GRB.CONTINUOUS, lb=-br_lim, ub=br_lim, name='P_Line')\n",
    "q_ij = m.addVars(line_t, vtype=GRB.CONTINUOUS, lb=-GRB.INFINITY, ub=GRB.INFINITY, name='Q_Line')\n",
    "\n",
    "l_ij = m.addVars(line_t, vtype=GRB.CONTINUOUS, lb=0, ub=GRB.INFINITY, name='L_Line')"
   ]
  },
  {
   "cell_type": "code",
   "execution_count": 28,
   "metadata": {},
   "outputs": [
    {
     "ename": "NameError",
     "evalue": "name 'neighbors' is not defined",
     "output_type": "error",
     "traceback": [
      "\u001b[1;31m---------------------------------------------------------------------------\u001b[0m",
      "\u001b[1;31mNameError\u001b[0m                                 Traceback (most recent call last)",
      "Cell \u001b[1;32mIn[28], line 1\u001b[0m\n\u001b[1;32m----> 1\u001b[0m \u001b[43mm\u001b[49m\u001b[38;5;241;43m.\u001b[39;49m\u001b[43maddConstrs\u001b[49m\u001b[43m(\u001b[49m\u001b[43m(\u001b[49m\u001b[43m(\u001b[49m\u001b[43mp_ij\u001b[49m\u001b[38;5;241;43m.\u001b[39;49m\u001b[43msum\u001b[49m\u001b[43m(\u001b[49m\u001b[43mi\u001b[49m\u001b[43m,\u001b[49m\u001b[38;5;124;43m'\u001b[39;49m\u001b[38;5;124;43m*\u001b[39;49m\u001b[38;5;124;43m'\u001b[39;49m\u001b[43m,\u001b[49m\u001b[43mt\u001b[49m\u001b[43m)\u001b[49m\u001b[43m \u001b[49m\u001b[38;5;241;43m+\u001b[39;49m\u001b[43m \u001b[49m\u001b[43mgp\u001b[49m\u001b[38;5;241;43m.\u001b[39;49m\u001b[43mquicksum\u001b[49m\u001b[43m(\u001b[49m\u001b[43mresi\u001b[49m\u001b[43m(\u001b[49m\u001b[43mline\u001b[49m\u001b[43m,\u001b[49m\u001b[43mi\u001b[49m\u001b[43m,\u001b[49m\u001b[43mj\u001b[49m\u001b[43m)\u001b[49m\u001b[43m \u001b[49m\u001b[38;5;241;43m*\u001b[39;49m\u001b[43m \u001b[49m\u001b[43ml_ij\u001b[49m\u001b[38;5;241;43m.\u001b[39;49m\u001b[43msum\u001b[49m\u001b[43m(\u001b[49m\u001b[43mi\u001b[49m\u001b[43m,\u001b[49m\u001b[43mj\u001b[49m\u001b[43m,\u001b[49m\u001b[43mt\u001b[49m\u001b[43m)\u001b[49m\u001b[43m \u001b[49m\u001b[38;5;28;43;01mfor\u001b[39;49;00m\u001b[43m \u001b[49m\u001b[43mj\u001b[49m\u001b[43m \u001b[49m\u001b[38;5;129;43;01min\u001b[39;49;00m\u001b[43m \u001b[49m\u001b[43mneighbors\u001b[49m\u001b[38;5;241;43m.\u001b[39;49m\u001b[43mNeighbors\u001b[49m\u001b[43m[\u001b[49m\u001b[43mi\u001b[49m\u001b[43m]\u001b[49m\u001b[43m)\u001b[49m\u001b[43m)\u001b[49m\u001b[43m \u001b[49m\u001b[38;5;241;43m-\u001b[39;49m\u001b[43m \u001b[49m\u001b[43mp_ij\u001b[49m\u001b[38;5;241;43m.\u001b[39;49m\u001b[43msum\u001b[49m\u001b[43m(\u001b[49m\u001b[38;5;124;43m'\u001b[39;49m\u001b[38;5;124;43m*\u001b[39;49m\u001b[38;5;124;43m'\u001b[39;49m\u001b[43m,\u001b[49m\u001b[43mi\u001b[49m\u001b[43m,\u001b[49m\u001b[43mt\u001b[49m\u001b[43m)\u001b[49m\u001b[43m \u001b[49m\u001b[38;5;241;43m==\u001b[39;49m\u001b[43m \u001b[49m\u001b[43mp_inj\u001b[49m\u001b[43m[\u001b[49m\u001b[43mi\u001b[49m\u001b[43m,\u001b[49m\u001b[43mt\u001b[49m\u001b[43m]\u001b[49m\u001b[43m \u001b[49m\u001b[38;5;28;43;01mfor\u001b[39;49;00m\u001b[43m \u001b[49m\u001b[43mi\u001b[49m\u001b[43m,\u001b[49m\u001b[43mt\u001b[49m\u001b[43m \u001b[49m\u001b[38;5;129;43;01min\u001b[39;49;00m\u001b[43m \u001b[49m\u001b[43mbus_t\u001b[49m\u001b[43m)\u001b[49m\u001b[43m,\u001b[49m\u001b[43m \u001b[49m\u001b[43mname\u001b[49m\u001b[38;5;241;43m=\u001b[39;49m\u001b[38;5;124;43m'\u001b[39;49m\u001b[38;5;124;43mP-Balance\u001b[39;49m\u001b[38;5;124;43m'\u001b[39;49m\u001b[43m)\u001b[49m\n\u001b[0;32m      2\u001b[0m \u001b[38;5;66;03m# m.addConstrs(((q_ij.sum(i,'*',t) + gp.quicksum(reac(line,i,j) * l_ij.sum(i,j,t) for j in neighbors.Neighbors[i])) - q_ij.sum('*',i,t) == q_inj[i,t] for i,t in bus_t), name='Q-Balance')\u001b[39;00m\n\u001b[0;32m      3\u001b[0m \u001b[38;5;66;03m# m.addConstrs((u_i[i,t] - u_i[j,t] == 2*(resi(line,i,j) * p_ij[i,j,t] + reac(line,i,j) * q_ij[i,j,t]) - (resi(line,i,j)**2 + reac(line,i,j)**2) * l_ij[i,j,t] for i,j,t in line_t),name='V-Drop')\u001b[39;00m\n\u001b[0;32m      4\u001b[0m \u001b[38;5;66;03m# m.addConstrs((u_i[i,t] == 1 for i in [0] for t in set_t), name='V-Slack')\u001b[39;00m\n\u001b[0;32m      5\u001b[0m \u001b[38;5;66;03m# m.addConstrs((p_inj[i,t] == p_g.sum(i,t) - bus.Pd[i]*l30[t] for i,t in bus_t), name='P-Injection')\u001b[39;00m\n\u001b[0;32m      6\u001b[0m \u001b[38;5;66;03m# m.addConstrs((q_inj[i,t] == q_g.sum(i,t) - bus.Qd[i]*l30[t] for i,t in bus_t), name='Q-Injection')\u001b[39;00m\n\u001b[0;32m      7\u001b[0m \u001b[38;5;66;03m# m.addConstrs((l_ij[i,j,t] * u_i[j,t] >= p_ij[i,j,t]**2 + q_ij[i,j,t]**2 for i,j,t in line_t), name='Ohms-Law')\u001b[39;00m\n",
      "File \u001b[1;32msrc\\\\gurobipy\\\\model.pxi:3877\u001b[0m, in \u001b[0;36mgurobipy.Model.addConstrs\u001b[1;34m()\u001b[0m\n",
      "Cell \u001b[1;32mIn[28], line 1\u001b[0m, in \u001b[0;36m<genexpr>\u001b[1;34m(.0)\u001b[0m\n\u001b[1;32m----> 1\u001b[0m m\u001b[38;5;241m.\u001b[39maddConstrs(((p_ij\u001b[38;5;241m.\u001b[39msum(i,\u001b[38;5;124m'\u001b[39m\u001b[38;5;124m*\u001b[39m\u001b[38;5;124m'\u001b[39m,t) \u001b[38;5;241m+\u001b[39m gp\u001b[38;5;241m.\u001b[39mquicksum(resi(line,i,j) \u001b[38;5;241m*\u001b[39m l_ij\u001b[38;5;241m.\u001b[39msum(i,j,t) \u001b[38;5;28;01mfor\u001b[39;00m j \u001b[38;5;129;01min\u001b[39;00m \u001b[43mneighbors\u001b[49m\u001b[38;5;241m.\u001b[39mNeighbors[i])) \u001b[38;5;241m-\u001b[39m p_ij\u001b[38;5;241m.\u001b[39msum(\u001b[38;5;124m'\u001b[39m\u001b[38;5;124m*\u001b[39m\u001b[38;5;124m'\u001b[39m,i,t) \u001b[38;5;241m==\u001b[39m p_inj[i,t] \u001b[38;5;28;01mfor\u001b[39;00m i,t \u001b[38;5;129;01min\u001b[39;00m bus_t), name\u001b[38;5;241m=\u001b[39m\u001b[38;5;124m'\u001b[39m\u001b[38;5;124mP-Balance\u001b[39m\u001b[38;5;124m'\u001b[39m)\n\u001b[0;32m      2\u001b[0m \u001b[38;5;66;03m# m.addConstrs(((q_ij.sum(i,'*',t) + gp.quicksum(reac(line,i,j) * l_ij.sum(i,j,t) for j in neighbors.Neighbors[i])) - q_ij.sum('*',i,t) == q_inj[i,t] for i,t in bus_t), name='Q-Balance')\u001b[39;00m\n\u001b[0;32m      3\u001b[0m \u001b[38;5;66;03m# m.addConstrs((u_i[i,t] - u_i[j,t] == 2*(resi(line,i,j) * p_ij[i,j,t] + reac(line,i,j) * q_ij[i,j,t]) - (resi(line,i,j)**2 + reac(line,i,j)**2) * l_ij[i,j,t] for i,j,t in line_t),name='V-Drop')\u001b[39;00m\n\u001b[0;32m      4\u001b[0m \u001b[38;5;66;03m# m.addConstrs((u_i[i,t] == 1 for i in [0] for t in set_t), name='V-Slack')\u001b[39;00m\n\u001b[0;32m      5\u001b[0m \u001b[38;5;66;03m# m.addConstrs((p_inj[i,t] == p_g.sum(i,t) - bus.Pd[i]*l30[t] for i,t in bus_t), name='P-Injection')\u001b[39;00m\n\u001b[0;32m      6\u001b[0m \u001b[38;5;66;03m# m.addConstrs((q_inj[i,t] == q_g.sum(i,t) - bus.Qd[i]*l30[t] for i,t in bus_t), name='Q-Injection')\u001b[39;00m\n\u001b[0;32m      7\u001b[0m \u001b[38;5;66;03m# m.addConstrs((l_ij[i,j,t] * u_i[j,t] >= p_ij[i,j,t]**2 + q_ij[i,j,t]**2 for i,j,t in line_t), name='Ohms-Law')\u001b[39;00m\n",
      "\u001b[1;31mNameError\u001b[0m: name 'neighbors' is not defined"
     ]
    }
   ],
   "source": [
    "m.addConstrs(((p_ij.sum(i,'*',t) + gp.quicksum(resi(line,i,j) * l_ij.sum(i,j,t) for j in neighbors.Neighbors[i])) - p_ij.sum('*',i,t) == p_inj[i,t] for i,t in bus_t), name='P-Balance')\n",
    "# m.addConstrs(((q_ij.sum(i,'*',t) + gp.quicksum(reac(line,i,j) * l_ij.sum(i,j,t) for j in neighbors.Neighbors[i])) - q_ij.sum('*',i,t) == q_inj[i,t] for i,t in bus_t), name='Q-Balance')\n",
    "# m.addConstrs((u_i[i,t] - u_i[j,t] == 2*(resi(line,i,j) * p_ij[i,j,t] + reac(line,i,j) * q_ij[i,j,t]) - (resi(line,i,j)**2 + reac(line,i,j)**2) * l_ij[i,j,t] for i,j,t in line_t),name='V-Drop')\n",
    "# m.addConstrs((u_i[i,t] == 1 for i in [0] for t in set_t), name='V-Slack')\n",
    "# m.addConstrs((p_inj[i,t] == p_g.sum(i,t) - bus.Pd[i]*l30[t] for i,t in bus_t), name='P-Injection')\n",
    "# m.addConstrs((q_inj[i,t] == q_g.sum(i,t) - bus.Qd[i]*l30[t] for i,t in bus_t), name='Q-Injection')\n",
    "# m.addConstrs((l_ij[i,j,t] * u_i[j,t] >= p_ij[i,j,t]**2 + q_ij[i,j,t]**2 for i,j,t in line_t), name='Ohms-Law')"
   ]
  }
 ],
 "metadata": {
  "kernelspec": {
   "display_name": "python38",
   "language": "python",
   "name": "python3"
  },
  "language_info": {
   "codemirror_mode": {
    "name": "ipython",
    "version": 3
   },
   "file_extension": ".py",
   "mimetype": "text/x-python",
   "name": "python",
   "nbconvert_exporter": "python",
   "pygments_lexer": "ipython3",
   "version": "3.8.18"
  }
 },
 "nbformat": 4,
 "nbformat_minor": 2
}
