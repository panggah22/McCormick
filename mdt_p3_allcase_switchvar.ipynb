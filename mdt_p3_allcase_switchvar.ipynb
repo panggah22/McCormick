{
 "cells": [
  {
   "cell_type": "code",
   "execution_count": 121,
   "metadata": {},
   "outputs": [],
   "source": [
    "import numpy as np\n",
    "import math\n",
    "\n",
    "import gurobipy as gp\n",
    "from gurobipy import GRB, tuplelist\n",
    "\n",
    "import pandas as pd"
   ]
  },
  {
   "cell_type": "code",
   "execution_count": 122,
   "metadata": {},
   "outputs": [],
   "source": [
    "idx_x = np.arange(1,9,1)\n",
    "set_x = tuplelist([i for i in idx_x])"
   ]
  },
  {
   "cell_type": "code",
   "execution_count": 123,
   "metadata": {},
   "outputs": [],
   "source": [
    "def variables_ori(m):\n",
    "    # X\n",
    "    x = m.addVars(set_x, name='x') \n",
    "    x[1].LB, x[1].UB = 100, 10000\n",
    "\n",
    "    for i in [2,3]:\n",
    "        x[i].LB, x[i].UB = 1000, 10000\n",
    "\n",
    "    for i in [4,5,6,7,8]:\n",
    "        x[i].LB, x[i].UB = 10, 1000\n",
    "\n",
    "    return x"
   ]
  },
  {
   "cell_type": "code",
   "execution_count": 124,
   "metadata": {},
   "outputs": [],
   "source": [
    "def objective_ori(m,x):\n",
    "    sum_x = sum(x[i] for i in [1,2,3])\n",
    "\n",
    "    m.setObjective(sum_x, GRB.MINIMIZE)"
   ]
  },
  {
   "cell_type": "code",
   "execution_count": 125,
   "metadata": {},
   "outputs": [],
   "source": [
    "def constraints_ori(m,x):\n",
    "    m.addConstr(0.0025*(x[4] + x[6]) - 1 <= 0)\n",
    "    m.addConstr(0.0025*(-x[4] + x[5] + x[7]) - 1 <= 0)\n",
    "    m.addConstr(0.01*(-x[5] + x[8]) - 1 <= 0)\n",
    "    m.addConstr(100*x[1] - x[1]*x[6] + 833.33252*x[4] - 83333.333 <= 0)\n",
    "    m.addConstr(x[2]*x[4] - x[2]*x[7] - 1250*x[4] + 1250*x[5] <= 0)\n",
    "    m.addConstr(x[3]*x[5] - x[3]*x[8] - 2500*x[5] + 1250000 <= 0)"
   ]
  },
  {
   "cell_type": "code",
   "execution_count": 126,
   "metadata": {},
   "outputs": [],
   "source": [
    "def constraints_mdt(m,x):\n",
    "    pairs = tuplelist([(1,6),(2,4),(2,7),(3,5),(3,8)])\n",
    "    # pairs = tuplelist([(i[1], i[0]) for i in pairs]) # Flip the discretization\n",
    "    \n",
    "    w = m.addVars(pairs, name='w')\n",
    "\n",
    "    m.addConstr(0.0025*(x[4] + x[6]) - 1 <= 0)\n",
    "    m.addConstr(0.0025*(-x[4] + x[5] + x[7]) - 1 <= 0)\n",
    "    m.addConstr(0.01*(-x[5] + x[8]) - 1 <= 0)\n",
    "    m.addConstr(100*x[1] - w[1,6] + 833.33252*x[4] - 83333.333 <= 0)\n",
    "    m.addConstr(w[2,4] - w[2,7] - 1250*x[4] + 1250*x[5] <= 0)\n",
    "    m.addConstr(w[3,5] - w[3,8] - 2500*x[5] + 1250000 <= 0)\n",
    "\n",
    "    return w,pairs"
   ]
  },
  {
   "cell_type": "code",
   "execution_count": 127,
   "metadata": {},
   "outputs": [],
   "source": [
    "def constraints_mdt_flip(m,x):\n",
    "    pairs = tuplelist([(1,6),(2,4),(2,7),(3,5),(3,8)])\n",
    "    pairs = tuplelist([(i[1], i[0]) for i in pairs]) # Flip the discretization\n",
    "    \n",
    "    w = m.addVars(pairs, name='w')\n",
    "\n",
    "    m.addConstr(0.0025*(x[4] + x[6]) - 1 <= 0)\n",
    "    m.addConstr(0.0025*(-x[4] + x[5] + x[7]) - 1 <= 0)\n",
    "    m.addConstr(0.01*(-x[5] + x[8]) - 1 <= 0)\n",
    "    m.addConstr(100*x[1] - w[6,1] + 833.33252*x[4] - 83333.333 <= 0)\n",
    "    m.addConstr(w[4,2] - w[7,2] - 1250*x[4] + 1250*x[5] <= 0)\n",
    "    m.addConstr(w[5,3] - w[8,3] - 2500*x[5] + 1250000 <= 0)\n",
    "    \n",
    "    y = m.addVar(vtype=GRB.BINARY, name='y')\n",
    "\n",
    "    m.addConstr(x[1] <= y*x[1].UB)\n",
    "    m.addConstr(x[1] >= y*x[1].LB)\n",
    "    # m.addConstr(x[6] <= (1-y)*x[6].UB)\n",
    "\n",
    "    return w,pairs"
   ]
  },
  {
   "cell_type": "code",
   "execution_count": 128,
   "metadata": {},
   "outputs": [],
   "source": [
    "from collections import Counter\n",
    "# To find the unique elements from the tuple using the counter\n",
    "\n",
    "def unique_num(numbers):\n",
    "    # this will take only unique numbers from the tuple\n",
    "    return tuple(Counter(numbers).keys())"
   ]
  },
  {
   "cell_type": "code",
   "execution_count": 129,
   "metadata": {},
   "outputs": [],
   "source": [
    "def relax_mdt(m,x,p=0,P=0):\n",
    "    # w,pairs = constraints_mdt(m,x)\n",
    "    w,pairs = constraints_mdt_flip(m,x)\n",
    "\n",
    "    pairs\n",
    "    left_set = unique_num([i[0] for i in pairs])\n",
    "    right_set = unique_num([i[1] for i in pairs])\n",
    "\n",
    "    set_l = range(p,P+1)\n",
    "    set_k = range(10)\n",
    "    set_kl = tuplelist([(i,j,k,l) for l in set_l for k in set_k for i,j in pairs])\n",
    "    set_z = tuplelist([(i,k,l) for l in set_l for k in set_k for i in left_set])\n",
    "    # w,pairs = constraints_mdt(m,x)\n",
    "    \n",
    "\n",
    "    # Here, 'left_set' are the variables that are discretized and 'right_set' are the variables that are continuous\n",
    "    delta_w = m.addVars(pairs, lb=-GRB.INFINITY, ub=GRB.INFINITY, name='delta_w')\n",
    "    delta_x1 = m.addVars(left_set, lb=0, ub=10**p, name='delta_x1')\n",
    "    \n",
    "    # Indexed continuous variables (hat_x_k) and binary variables (z_k)\n",
    "    hat_x = m.addVars(set_kl, lb=-GRB.INFINITY, ub=GRB.INFINITY, vtype=GRB.CONTINUOUS, name='hat_x')\n",
    "    z = m.addVars(set_z, vtype=GRB.BINARY, name='z')\n",
    "\n",
    "    m.update()\n",
    "        \n",
    "    m.addConstrs((w[i,j] == gp.quicksum(gp.quicksum(10**l * k * hat_x[i,j,k,l] for k in set_k) for l in set_l) + delta_w[i,j] for i,j in pairs))\n",
    "\n",
    "    m.addConstrs((x[i] == gp.quicksum(gp.quicksum(10**l * k * z[i,k,l] for k in set_k) for l in set_l) + delta_x1[i] for i in left_set))\n",
    "\n",
    "    m.addConstrs((x[j] == gp.quicksum(hat_x[i,j,k,l] for k in set_k) for l in set_l for i,j in pairs))\n",
    "\n",
    "    m.addConstrs((hat_x[i,j,k,l] >= x[j].LB * z[i,k,l] for i,j,k,l in set_kl))\n",
    "    m.addConstrs((hat_x[i,j,k,l] <= x[j].UB * z[i,k,l] for i,j,k,l in set_kl))\n",
    "\n",
    "    m.addConstrs((z.sum(i,'*',l) == 1 for i,k,l in set_z))\n",
    "\n",
    "    m.addConstrs((delta_w[i,j] >= x[j].LB * delta_x1[i] for i,j in pairs))\n",
    "    m.addConstrs((delta_w[i,j] <= x[j].UB * delta_x1[i] for i,j in pairs))\n",
    "\n",
    "    m.addConstrs((delta_w[i,j] <= (x[j] - x[j].LB) * 10**p + x[j].LB * delta_x1[i] for i,j in pairs))\n",
    "    m.addConstrs((delta_w[i,j] >= (x[j] - x[j].UB) * 10**p + x[j].UB * delta_x1[i] for i,j in pairs))\n",
    "\n",
    "    return w, delta_w, delta_x1, hat_x, z, pairs   # output variables for main program"
   ]
  },
  {
   "cell_type": "code",
   "execution_count": 130,
   "metadata": {},
   "outputs": [],
   "source": [
    "def var_values(y,mult=1):\n",
    "    z = []\n",
    "    for v in y.values():\n",
    "        z.append(round(v.X*mult,2))\n",
    "    return z"
   ]
  },
  {
   "cell_type": "code",
   "execution_count": 131,
   "metadata": {},
   "outputs": [],
   "source": [
    "def optimize_mdt(p,P):\n",
    "    m = gp.Model('MDT_P3')\n",
    "    x = variables_ori(m)\n",
    "    objective_ori(m,x)\n",
    "    m.update()\n",
    "\n",
    "    w, delta_w, delta_x1, hat_x, z, pairs = relax_mdt(m,x,p,P)\n",
    "    m.update()\n",
    "\n",
    "    m.Params.OutputFlag = 1\n",
    "    m.optimize()\n",
    "\n",
    "    xx = var_values(x)\n",
    "    return xx,m.ObjVal, m.Runtime, m.NumVars, m.NumConstrs"
   ]
  },
  {
   "cell_type": "code",
   "execution_count": 132,
   "metadata": {},
   "outputs": [
    {
     "name": "stdout",
     "output_type": "stream",
     "text": [
      "Gurobi Optimizer version 11.0.0 build v11.0.0rc2 (win64 - Windows 11+.0 (26120.2))\n",
      "\n",
      "CPU model: AMD Ryzen 7 2700X Eight-Core Processor, instruction set [SSE2|AVX|AVX2]\n",
      "Thread count: 8 physical cores, 16 logical processors, using up to 16 threads\n",
      "\n",
      "Optimize a model with 193 rows, 124 columns and 936 nonzeros\n",
      "Model fingerprint: 0xf4d24513\n",
      "Variable types: 73 continuous, 51 integer (51 binary)\n",
      "Coefficient statistics:\n",
      "  Matrix range     [3e-03, 1e+04]\n",
      "  Objective range  [1e+00, 1e+00]\n",
      "  Bounds range     [1e+00, 1e+04]\n",
      "  RHS range        [1e+00, 1e+07]\n",
      "Presolve removed 168 rows and 111 columns\n",
      "Presolve time: 0.00s\n",
      "Presolved: 25 rows, 13 columns, 64 nonzeros\n",
      "Variable types: 13 continuous, 0 integer (0 binary)\n",
      "\n",
      "Root relaxation: objective 2.529514e+03, 15 iterations, 0.00 seconds (0.00 work units)\n",
      "\n",
      "    Nodes    |    Current Node    |     Objective Bounds      |     Work\n",
      " Expl Unexpl |  Obj  Depth IntInf | Incumbent    BestBd   Gap | It/Node Time\n",
      "\n",
      "*    0     0               0    2529.5137097 2529.51371  0.00%     -    0s\n",
      "\n",
      "Explored 1 nodes (15 simplex iterations) in 0.03 seconds (0.00 work units)\n",
      "Thread count was 16 (of 16 available processors)\n",
      "\n",
      "Solution count 1: 2529.51 \n",
      "\n",
      "Optimal solution found (tolerance 1.00e-04)\n",
      "Best objective 2.529513709697e+03, best bound 2.529513709697e+03, gap 0.0000%\n",
      "   p   Obj_value                                                  x  \\\n",
      "3  3  2529.51371  [361.5, 1168.02, 1000.0, 373.59, 460.0, 26.41,...   \n",
      "\n",
      "   Computed in  Num. Vars  Num. Constrs  \n",
      "3         0.04      124.0         193.0  \n"
     ]
    }
   ],
   "source": [
    "P = 3\n",
    "p = 3\n",
    "df = pd.DataFrame(columns=['p','Obj_value','x','Computed in'])\n",
    "for i in range(P,p-1,-1):\n",
    "    x,objval,runtime,nvar,nconst = optimize_mdt(i,P)\n",
    "    df2 = pd.DataFrame({'p':[i], 'Obj_value':[objval], 'x':[x], 'Computed in':[runtime], 'Num. Vars':[nvar], 'Num. Constrs':[nconst]},index=[i])\n",
    "    df = pd.concat([df,df2])\n",
    "\n",
    "df.set_index(['p'])\n",
    "print(df)\n"
   ]
  },
  {
   "cell_type": "code",
   "execution_count": 133,
   "metadata": {},
   "outputs": [],
   "source": [
    "df.to_csv('result_p3.csv', sep='\\t', index=False)"
   ]
  },
  {
   "cell_type": "code",
   "execution_count": 134,
   "metadata": {},
   "outputs": [
    {
     "name": "stdout",
     "output_type": "stream",
     "text": [
      "Gurobi Optimizer version 11.0.0 build v11.0.0rc2 (win64 - Windows 11+.0 (26120.2))\n",
      "\n",
      "CPU model: AMD Ryzen 7 2700X Eight-Core Processor, instruction set [SSE2|AVX|AVX2]\n",
      "Thread count: 8 physical cores, 16 logical processors, using up to 16 threads\n",
      "\n",
      "Optimize a model with 813 rows, 524 columns and 4316 nonzeros\n",
      "Model fingerprint: 0xb6b245fc\n",
      "Variable types: 273 continuous, 251 integer (251 binary)\n",
      "Coefficient statistics:\n",
      "  Matrix range     [3e-03, 1e+04]\n",
      "  Objective range  [1e+00, 1e+00]\n",
      "  Bounds range     [1e-01, 1e+04]\n",
      "  RHS range        [1e+00, 1e+06]\n"
     ]
    },
    {
     "name": "stdout",
     "output_type": "stream",
     "text": [
      "Presolve removed 378 rows and 142 columns\n",
      "Presolve time: 0.00s\n",
      "Presolved: 435 rows, 382 columns, 1521 nonzeros\n",
      "Variable types: 201 continuous, 181 integer (181 binary)\n",
      "Found heuristic solution: objective 11097.498193\n",
      "\n",
      "Root relaxation: objective 2.696561e+03, 303 iterations, 0.00 seconds (0.00 work units)\n",
      "\n",
      "    Nodes    |    Current Node    |     Objective Bounds      |     Work\n",
      " Expl Unexpl |  Obj  Depth IntInf | Incumbent    BestBd   Gap | It/Node Time\n",
      "\n",
      "     0     0 2696.56068    0   14 11097.4982 2696.56068  75.7%     -    0s\n",
      "     0     0 2771.13077    0   15 11097.4982 2771.13077  75.0%     -    0s\n",
      "H    0     0                    10938.519765 2771.13077  74.7%     -    0s\n",
      "     0     0 2771.13077    0   13 10938.5198 2771.13077  74.7%     -    0s\n",
      "H    0     0                    10849.958326 2790.30593  74.3%     -    0s\n",
      "     0     0 2790.30593    0   15 10849.9583 2790.30593  74.3%     -    0s\n",
      "     0     0 2793.51172    0   22 10849.9583 2793.51172  74.3%     -    0s\n",
      "H    0     0                    8724.5575621 2994.84103  65.7%     -    0s\n",
      "     0     0 2994.84103    0   26 8724.55756 2994.84103  65.7%     -    0s\n",
      "     0     0 3173.80923    0   25 8724.55756 3173.80923  63.6%     -    0s\n",
      "H    0     0                    7641.2794398 3239.94096  57.6%     -    0s\n",
      "     0     0 3239.94096    0   26 7641.27944 3239.94096  57.6%     -    0s\n",
      "     0     0 3252.61673    0   32 7641.27944 3252.61673  57.4%     -    0s\n",
      "     0     0 3252.61673    0   29 7641.27944 3252.61673  57.4%     -    0s\n",
      "H    0     0                    7622.5321346 3252.61673  57.3%     -    0s\n",
      "     0     1 3252.61673    0   21 7622.53213 3252.61673  57.3%     -    0s\n",
      "H  315   166                    7309.4477006 3252.61673  55.5%  15.7    0s\n",
      "H  316   166                    7132.7586363 3252.61673  54.4%  15.6    0s\n",
      "H  380   190                    7064.5769583 3252.61673  54.0%  15.9    0s\n",
      "H  458   192                    7064.2032537 3252.61673  54.0%  17.2    0s\n",
      "H  466   192                    7052.3345716 3252.61673  53.9%  17.3    0s\n",
      "* 1856   709              44    7051.8086508 4024.30503  42.9%  19.3    0s\n",
      "H 3875  1105                    7051.4410704 5368.71810  23.9%  19.7    0s\n",
      "H 3968  1089                    7051.0203184 5368.71810  23.9%  20.2    1s\n",
      "H 3991  1029                    7050.9448932 5368.71810  23.9%  20.4    1s\n",
      "H 4065  1000                    7048.2529469 5368.71810  23.8%  20.9    1s\n",
      "H 4689  1014                    7047.5658407 5368.71810  23.8%  22.5    1s\n",
      "H 4696   966                    7045.3920168 5368.71810  23.8%  22.4    1s\n",
      "H 5896   822                    7044.9814806 5368.71810  23.8%  22.9    1s\n",
      "H19010  3225                    7044.5833476 6924.99873  1.70%  15.6    3s\n",
      "H29648  4700                    7044.5098038 6993.33338  0.73%  13.4    3s\n",
      "*30668  4872              77    7044.4559232 6995.47474  0.70%  13.2    3s\n",
      "H31263  4838                    7044.3109892 6996.80112  0.67%  13.1    3s\n",
      "*31295  4827              69    7044.2457610 6996.80112  0.67%  13.1    3s\n",
      "H41601  5844                    7044.2271411 7023.25740  0.30%  11.7    4s\n",
      " 60977  9091 7036.49608   53    8 7044.22714 7034.39730  0.14%  10.0    5s\n",
      "*83012  6073              82    7044.2255248 7039.89347  0.06%   9.1    5s\n",
      "H85197  6037                    7044.2241380 7040.50318  0.05%   9.0    6s\n",
      "H85231  6034                    7044.2221589 7040.50318  0.05%   9.0    6s\n",
      "\n",
      "Explored 98512 nodes (851770 simplex iterations) in 6.82 seconds (4.44 work units)\n",
      "Thread count was 16 (of 16 available processors)\n",
      "\n",
      "Solution count 10: 7044.22 7044.22 7044.23 ... 7045.39\n",
      "\n",
      "Optimal solution found (tolerance 1.00e-04)\n",
      "Best objective 7.044225524776e+03, best bound 7.043682674231e+03, gap 0.0077%\n"
     ]
    }
   ],
   "source": [
    "m = gp.Model('MDT')\n",
    "x = variables_ori(m)\n",
    "# constraints_mdt(m,x)\n",
    "objective_ori(m,x)\n",
    "m.update()\n",
    "# P = int(math.log10(1000))\n",
    "w, delta_w, delta_x1, hat_x, z, pairs = relax_mdt(m,x,p=-1,P=3)\n",
    "\n",
    "m.update()\n",
    "m.write('P3.lp')\n",
    "\n",
    "m.optimize()"
   ]
  },
  {
   "cell_type": "code",
   "execution_count": 135,
   "metadata": {},
   "outputs": [
    {
     "data": {
      "text/plain": [
       "6.828999996185303"
      ]
     },
     "execution_count": 135,
     "metadata": {},
     "output_type": "execute_result"
    }
   ],
   "source": [
    "m.Runtime"
   ]
  },
  {
   "cell_type": "code",
   "execution_count": 136,
   "metadata": {},
   "outputs": [
    {
     "data": {
      "text/plain": [
       "6.828999996185303"
      ]
     },
     "execution_count": 136,
     "metadata": {},
     "output_type": "execute_result"
    }
   ],
   "source": [
    "m.Runtime"
   ]
  },
  {
   "cell_type": "code",
   "execution_count": 137,
   "metadata": {},
   "outputs": [],
   "source": [
    "def optimize_problem(p,P):\n",
    "    m = gp.Model('MDT')\n",
    "    x = variables_ori(m)\n",
    "    m.update()\n",
    "    w = relax_mdt(m,x)\n",
    "    \n",
    "    "
   ]
  },
  {
   "cell_type": "code",
   "execution_count": 138,
   "metadata": {},
   "outputs": [],
   "source": [
    "## Defining the upper bound\n",
    "m = gp.Model('P3')\n",
    "x = variables_ori(m)\n",
    "m.update()\n",
    "objective_ori(m,x)\n",
    "constraints_ori(m,x)\n",
    "\n",
    "m.Params.OutputFlag = 0\n",
    "m.Params.NonConvex = 2\n",
    "m.optimize()\n",
    "\n",
    "x_res = [(i, x[i].X) for i in set_x]\n",
    "df = pd.DataFrame(x_res, columns=['Index', 'x_upper'])\n",
    "df = df.set_index('Index')"
   ]
  },
  {
   "cell_type": "code",
   "execution_count": 139,
   "metadata": {},
   "outputs": [
    {
     "data": {
      "text/plain": [
       "(7049.248020538567, 0.06999993324279785, 8, 3)"
      ]
     },
     "execution_count": 139,
     "metadata": {},
     "output_type": "execute_result"
    }
   ],
   "source": [
    "m.ObjVal, m.Runtime, m.NumVars, m.NumConstrs"
   ]
  },
  {
   "cell_type": "code",
   "execution_count": 140,
   "metadata": {},
   "outputs": [
    {
     "data": {
      "text/plain": [
       "[(1, 579.3066844257957),\n",
       " (2, 1359.9706680592556),\n",
       " (3, 5109.9706680535155),\n",
       " (4, 182.01769958088101),\n",
       " (5, 295.60117327799134),\n",
       " (6, 217.98230041878287),\n",
       " (7, 286.4165263027629),\n",
       " (8, 395.60117327795905)]"
      ]
     },
     "execution_count": 140,
     "metadata": {},
     "output_type": "execute_result"
    }
   ],
   "source": [
    "x_res"
   ]
  },
  {
   "cell_type": "code",
   "execution_count": 141,
   "metadata": {},
   "outputs": [
    {
     "name": "stdout",
     "output_type": "stream",
     "text": [
      "           x_upper\n",
      "Index             \n",
      "1       579.306684\n",
      "2      1359.970668\n",
      "3      5109.970668\n",
      "4       182.017700\n",
      "5       295.601173\n",
      "6       217.982300\n",
      "7       286.416526\n",
      "8       395.601173\n"
     ]
    }
   ],
   "source": [
    "print(df)"
   ]
  }
 ],
 "metadata": {
  "kernelspec": {
   "display_name": "python38",
   "language": "python",
   "name": "python3"
  },
  "language_info": {
   "codemirror_mode": {
    "name": "ipython",
    "version": 3
   },
   "file_extension": ".py",
   "mimetype": "text/x-python",
   "name": "python",
   "nbconvert_exporter": "python",
   "pygments_lexer": "ipython3",
   "version": "3.8.18"
  }
 },
 "nbformat": 4,
 "nbformat_minor": 2
}
